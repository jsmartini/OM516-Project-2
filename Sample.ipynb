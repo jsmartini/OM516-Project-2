{
 "cells": [
  {
   "cell_type": "code",
   "execution_count": 1,
   "metadata": {},
   "outputs": [],
   "source": [
    "import pandas as pd\n",
    "import numpy as np\n",
    "from sklearn.linear_model import LinearRegression\n",
    "import math\n",
    "import matplotlib.pyplot as plt\n",
    "import matplotlib as mpl\n",
    "import PublicFunctions as pf"
   ]
  },
  {
   "cell_type": "markdown",
   "metadata": {},
   "source": [
    "# Read"
   ]
  },
  {
   "cell_type": "markdown",
   "metadata": {},
   "source": [
    "The data was downloaded from Zillow Research (https://www.zillow.com/research/data/ --> Inventory --> New Listings (Raw, All Homes, Montly View)) as the .csv file given here. Column headers represent the last day of the month, which we simply refer to as the month, i.e., column '2018-1-31' is 'January 2018.'"
   ]
  },
  {
   "cell_type": "code",
   "execution_count": 2,
   "metadata": {
    "scrolled": true
   },
   "outputs": [
    {
     "data": {
      "text/html": [
       "<div>\n",
       "<style scoped>\n",
       "    .dataframe tbody tr th:only-of-type {\n",
       "        vertical-align: middle;\n",
       "    }\n",
       "\n",
       "    .dataframe tbody tr th {\n",
       "        vertical-align: top;\n",
       "    }\n",
       "\n",
       "    .dataframe thead th {\n",
       "        text-align: right;\n",
       "    }\n",
       "</style>\n",
       "<table border=\"1\" class=\"dataframe\">\n",
       "  <thead>\n",
       "    <tr style=\"text-align: right;\">\n",
       "      <th></th>\n",
       "      <th>RegionID</th>\n",
       "      <th>SizeRank</th>\n",
       "      <th>RegionName</th>\n",
       "      <th>RegionType</th>\n",
       "      <th>StateName</th>\n",
       "      <th>1/31/2018</th>\n",
       "      <th>2/28/2018</th>\n",
       "      <th>3/31/2018</th>\n",
       "      <th>4/30/2018</th>\n",
       "      <th>5/31/2018</th>\n",
       "      <th>...</th>\n",
       "      <th>11/30/2021</th>\n",
       "      <th>12/31/2021</th>\n",
       "      <th>1/31/2022</th>\n",
       "      <th>2/28/2022</th>\n",
       "      <th>3/31/2022</th>\n",
       "      <th>4/30/2022</th>\n",
       "      <th>5/31/2022</th>\n",
       "      <th>6/30/2022</th>\n",
       "      <th>7/31/2022</th>\n",
       "      <th>8/31/2022</th>\n",
       "    </tr>\n",
       "  </thead>\n",
       "  <tbody>\n",
       "    <tr>\n",
       "      <th>0</th>\n",
       "      <td>102001</td>\n",
       "      <td>0</td>\n",
       "      <td>United States</td>\n",
       "      <td>country</td>\n",
       "      <td>NaN</td>\n",
       "      <td>327792.0</td>\n",
       "      <td>381284.0</td>\n",
       "      <td>490780.0</td>\n",
       "      <td>529164.0</td>\n",
       "      <td>554878.0</td>\n",
       "      <td>...</td>\n",
       "      <td>315174.0</td>\n",
       "      <td>215175.0</td>\n",
       "      <td>253159.0</td>\n",
       "      <td>284434.0</td>\n",
       "      <td>385837.0</td>\n",
       "      <td>417512.0</td>\n",
       "      <td>440501.0</td>\n",
       "      <td>474768.0</td>\n",
       "      <td>409400.0</td>\n",
       "      <td>361392</td>\n",
       "    </tr>\n",
       "    <tr>\n",
       "      <th>1</th>\n",
       "      <td>394913</td>\n",
       "      <td>1</td>\n",
       "      <td>New York, NY</td>\n",
       "      <td>msa</td>\n",
       "      <td>NY</td>\n",
       "      <td>14997.0</td>\n",
       "      <td>22401.0</td>\n",
       "      <td>23484.0</td>\n",
       "      <td>26845.0</td>\n",
       "      <td>26302.0</td>\n",
       "      <td>...</td>\n",
       "      <td>12043.0</td>\n",
       "      <td>6911.0</td>\n",
       "      <td>9214.0</td>\n",
       "      <td>11516.0</td>\n",
       "      <td>16027.0</td>\n",
       "      <td>16427.0</td>\n",
       "      <td>17057.0</td>\n",
       "      <td>17237.0</td>\n",
       "      <td>14057.0</td>\n",
       "      <td>11642</td>\n",
       "    </tr>\n",
       "    <tr>\n",
       "      <th>2</th>\n",
       "      <td>753899</td>\n",
       "      <td>2</td>\n",
       "      <td>Los Angeles, CA</td>\n",
       "      <td>msa</td>\n",
       "      <td>CA</td>\n",
       "      <td>8274.0</td>\n",
       "      <td>9505.0</td>\n",
       "      <td>10523.0</td>\n",
       "      <td>11052.0</td>\n",
       "      <td>11871.0</td>\n",
       "      <td>...</td>\n",
       "      <td>6591.0</td>\n",
       "      <td>4466.0</td>\n",
       "      <td>6533.0</td>\n",
       "      <td>7619.0</td>\n",
       "      <td>9115.0</td>\n",
       "      <td>9312.0</td>\n",
       "      <td>9413.0</td>\n",
       "      <td>9847.0</td>\n",
       "      <td>8691.0</td>\n",
       "      <td>7464</td>\n",
       "    </tr>\n",
       "    <tr>\n",
       "      <th>3</th>\n",
       "      <td>394463</td>\n",
       "      <td>3</td>\n",
       "      <td>Chicago, IL</td>\n",
       "      <td>msa</td>\n",
       "      <td>IL</td>\n",
       "      <td>8795.0</td>\n",
       "      <td>11937.0</td>\n",
       "      <td>17632.0</td>\n",
       "      <td>17154.0</td>\n",
       "      <td>17315.0</td>\n",
       "      <td>...</td>\n",
       "      <td>8726.0</td>\n",
       "      <td>5380.0</td>\n",
       "      <td>7253.0</td>\n",
       "      <td>8960.0</td>\n",
       "      <td>12644.0</td>\n",
       "      <td>13390.0</td>\n",
       "      <td>13876.0</td>\n",
       "      <td>14605.0</td>\n",
       "      <td>12056.0</td>\n",
       "      <td>10313</td>\n",
       "    </tr>\n",
       "    <tr>\n",
       "      <th>4</th>\n",
       "      <td>394514</td>\n",
       "      <td>4</td>\n",
       "      <td>Dallas, TX</td>\n",
       "      <td>msa</td>\n",
       "      <td>TX</td>\n",
       "      <td>7848.0</td>\n",
       "      <td>8186.0</td>\n",
       "      <td>11131.0</td>\n",
       "      <td>12357.0</td>\n",
       "      <td>12362.0</td>\n",
       "      <td>...</td>\n",
       "      <td>7995.0</td>\n",
       "      <td>5751.0</td>\n",
       "      <td>6202.0</td>\n",
       "      <td>6155.0</td>\n",
       "      <td>8376.0</td>\n",
       "      <td>9647.0</td>\n",
       "      <td>10372.0</td>\n",
       "      <td>12367.0</td>\n",
       "      <td>10742.0</td>\n",
       "      <td>8544</td>\n",
       "    </tr>\n",
       "    <tr>\n",
       "      <th>...</th>\n",
       "      <td>...</td>\n",
       "      <td>...</td>\n",
       "      <td>...</td>\n",
       "      <td>...</td>\n",
       "      <td>...</td>\n",
       "      <td>...</td>\n",
       "      <td>...</td>\n",
       "      <td>...</td>\n",
       "      <td>...</td>\n",
       "      <td>...</td>\n",
       "      <td>...</td>\n",
       "      <td>...</td>\n",
       "      <td>...</td>\n",
       "      <td>...</td>\n",
       "      <td>...</td>\n",
       "      <td>...</td>\n",
       "      <td>...</td>\n",
       "      <td>...</td>\n",
       "      <td>...</td>\n",
       "      <td>...</td>\n",
       "      <td>...</td>\n",
       "    </tr>\n",
       "    <tr>\n",
       "      <th>884</th>\n",
       "      <td>753929</td>\n",
       "      <td>923</td>\n",
       "      <td>Zapata, TX</td>\n",
       "      <td>msa</td>\n",
       "      <td>TX</td>\n",
       "      <td>NaN</td>\n",
       "      <td>NaN</td>\n",
       "      <td>NaN</td>\n",
       "      <td>NaN</td>\n",
       "      <td>NaN</td>\n",
       "      <td>...</td>\n",
       "      <td>NaN</td>\n",
       "      <td>NaN</td>\n",
       "      <td>NaN</td>\n",
       "      <td>NaN</td>\n",
       "      <td>NaN</td>\n",
       "      <td>NaN</td>\n",
       "      <td>NaN</td>\n",
       "      <td>6.0</td>\n",
       "      <td>NaN</td>\n",
       "      <td>6</td>\n",
       "    </tr>\n",
       "    <tr>\n",
       "      <th>885</th>\n",
       "      <td>394743</td>\n",
       "      <td>924</td>\n",
       "      <td>Ketchikan, AK</td>\n",
       "      <td>msa</td>\n",
       "      <td>AK</td>\n",
       "      <td>NaN</td>\n",
       "      <td>NaN</td>\n",
       "      <td>NaN</td>\n",
       "      <td>NaN</td>\n",
       "      <td>NaN</td>\n",
       "      <td>...</td>\n",
       "      <td>NaN</td>\n",
       "      <td>NaN</td>\n",
       "      <td>NaN</td>\n",
       "      <td>9.0</td>\n",
       "      <td>12.0</td>\n",
       "      <td>15.0</td>\n",
       "      <td>7.0</td>\n",
       "      <td>9.0</td>\n",
       "      <td>13.0</td>\n",
       "      <td>7</td>\n",
       "    </tr>\n",
       "    <tr>\n",
       "      <th>886</th>\n",
       "      <td>753874</td>\n",
       "      <td>925</td>\n",
       "      <td>Craig, CO</td>\n",
       "      <td>msa</td>\n",
       "      <td>CO</td>\n",
       "      <td>19.0</td>\n",
       "      <td>25.0</td>\n",
       "      <td>24.0</td>\n",
       "      <td>34.0</td>\n",
       "      <td>51.0</td>\n",
       "      <td>...</td>\n",
       "      <td>14.0</td>\n",
       "      <td>10.0</td>\n",
       "      <td>14.0</td>\n",
       "      <td>9.0</td>\n",
       "      <td>20.0</td>\n",
       "      <td>30.0</td>\n",
       "      <td>33.0</td>\n",
       "      <td>22.0</td>\n",
       "      <td>20.0</td>\n",
       "      <td>28</td>\n",
       "    </tr>\n",
       "    <tr>\n",
       "      <th>887</th>\n",
       "      <td>394767</td>\n",
       "      <td>926</td>\n",
       "      <td>Lamesa, TX</td>\n",
       "      <td>msa</td>\n",
       "      <td>TX</td>\n",
       "      <td>NaN</td>\n",
       "      <td>NaN</td>\n",
       "      <td>NaN</td>\n",
       "      <td>NaN</td>\n",
       "      <td>NaN</td>\n",
       "      <td>...</td>\n",
       "      <td>NaN</td>\n",
       "      <td>NaN</td>\n",
       "      <td>NaN</td>\n",
       "      <td>NaN</td>\n",
       "      <td>13.0</td>\n",
       "      <td>6.0</td>\n",
       "      <td>8.0</td>\n",
       "      <td>11.0</td>\n",
       "      <td>10.0</td>\n",
       "      <td>18</td>\n",
       "    </tr>\n",
       "    <tr>\n",
       "      <th>888</th>\n",
       "      <td>395188</td>\n",
       "      <td>927</td>\n",
       "      <td>Vernon, TX</td>\n",
       "      <td>msa</td>\n",
       "      <td>TX</td>\n",
       "      <td>NaN</td>\n",
       "      <td>NaN</td>\n",
       "      <td>NaN</td>\n",
       "      <td>NaN</td>\n",
       "      <td>NaN</td>\n",
       "      <td>...</td>\n",
       "      <td>NaN</td>\n",
       "      <td>NaN</td>\n",
       "      <td>NaN</td>\n",
       "      <td>NaN</td>\n",
       "      <td>5.0</td>\n",
       "      <td>6.0</td>\n",
       "      <td>8.0</td>\n",
       "      <td>7.0</td>\n",
       "      <td>6.0</td>\n",
       "      <td>12</td>\n",
       "    </tr>\n",
       "  </tbody>\n",
       "</table>\n",
       "<p>889 rows × 61 columns</p>\n",
       "</div>"
      ],
      "text/plain": [
       "     RegionID  SizeRank       RegionName RegionType StateName  1/31/2018  \\\n",
       "0      102001         0    United States    country       NaN   327792.0   \n",
       "1      394913         1     New York, NY        msa        NY    14997.0   \n",
       "2      753899         2  Los Angeles, CA        msa        CA     8274.0   \n",
       "3      394463         3      Chicago, IL        msa        IL     8795.0   \n",
       "4      394514         4       Dallas, TX        msa        TX     7848.0   \n",
       "..        ...       ...              ...        ...       ...        ...   \n",
       "884    753929       923       Zapata, TX        msa        TX        NaN   \n",
       "885    394743       924    Ketchikan, AK        msa        AK        NaN   \n",
       "886    753874       925        Craig, CO        msa        CO       19.0   \n",
       "887    394767       926       Lamesa, TX        msa        TX        NaN   \n",
       "888    395188       927       Vernon, TX        msa        TX        NaN   \n",
       "\n",
       "     2/28/2018  3/31/2018  4/30/2018  5/31/2018  ...  11/30/2021  12/31/2021  \\\n",
       "0     381284.0   490780.0   529164.0   554878.0  ...    315174.0    215175.0   \n",
       "1      22401.0    23484.0    26845.0    26302.0  ...     12043.0      6911.0   \n",
       "2       9505.0    10523.0    11052.0    11871.0  ...      6591.0      4466.0   \n",
       "3      11937.0    17632.0    17154.0    17315.0  ...      8726.0      5380.0   \n",
       "4       8186.0    11131.0    12357.0    12362.0  ...      7995.0      5751.0   \n",
       "..         ...        ...        ...        ...  ...         ...         ...   \n",
       "884        NaN        NaN        NaN        NaN  ...         NaN         NaN   \n",
       "885        NaN        NaN        NaN        NaN  ...         NaN         NaN   \n",
       "886       25.0       24.0       34.0       51.0  ...        14.0        10.0   \n",
       "887        NaN        NaN        NaN        NaN  ...         NaN         NaN   \n",
       "888        NaN        NaN        NaN        NaN  ...         NaN         NaN   \n",
       "\n",
       "     1/31/2022  2/28/2022  3/31/2022  4/30/2022  5/31/2022  6/30/2022  \\\n",
       "0     253159.0   284434.0   385837.0   417512.0   440501.0   474768.0   \n",
       "1       9214.0    11516.0    16027.0    16427.0    17057.0    17237.0   \n",
       "2       6533.0     7619.0     9115.0     9312.0     9413.0     9847.0   \n",
       "3       7253.0     8960.0    12644.0    13390.0    13876.0    14605.0   \n",
       "4       6202.0     6155.0     8376.0     9647.0    10372.0    12367.0   \n",
       "..         ...        ...        ...        ...        ...        ...   \n",
       "884        NaN        NaN        NaN        NaN        NaN        6.0   \n",
       "885        NaN        9.0       12.0       15.0        7.0        9.0   \n",
       "886       14.0        9.0       20.0       30.0       33.0       22.0   \n",
       "887        NaN        NaN       13.0        6.0        8.0       11.0   \n",
       "888        NaN        NaN        5.0        6.0        8.0        7.0   \n",
       "\n",
       "     7/31/2022  8/31/2022  \n",
       "0     409400.0     361392  \n",
       "1      14057.0      11642  \n",
       "2       8691.0       7464  \n",
       "3      12056.0      10313  \n",
       "4      10742.0       8544  \n",
       "..         ...        ...  \n",
       "884        NaN          6  \n",
       "885       13.0          7  \n",
       "886       20.0         28  \n",
       "887       10.0         18  \n",
       "888        6.0         12  \n",
       "\n",
       "[889 rows x 61 columns]"
      ]
     },
     "execution_count": 2,
     "metadata": {},
     "output_type": "execute_result"
    }
   ],
   "source": [
    "df = pd.read_csv('Metro_new_listings_uc_sfrcondo_month.csv')\n",
    "df"
   ]
  },
  {
   "cell_type": "markdown",
   "metadata": {},
   "source": [
    "# Isolate the data for the team"
   ]
  },
  {
   "cell_type": "code",
   "execution_count": 3,
   "metadata": {},
   "outputs": [
    {
     "data": {
      "text/plain": [
       "RegionID             102001\n",
       "SizeRank                  0\n",
       "RegionName    United States\n",
       "RegionType          country\n",
       "StateName               NaN\n",
       "                  ...      \n",
       "4/30/2022            417512\n",
       "5/31/2022            440501\n",
       "6/30/2022            474768\n",
       "7/31/2022            409400\n",
       "8/31/2022            361392\n",
       "Name: 0, Length: 61, dtype: object"
      ]
     },
     "execution_count": 3,
     "metadata": {},
     "output_type": "execute_result"
    }
   ],
   "source": [
    "team = 0\n",
    "row = df.iloc[team]\n",
    "row"
   ]
  },
  {
   "cell_type": "markdown",
   "metadata": {},
   "source": [
    "Calculate the monthly averages for years 1 thru 4. "
   ]
  },
  {
   "cell_type": "code",
   "execution_count": 4,
   "metadata": {},
   "outputs": [
    {
     "data": {
      "text/plain": [
       "array([-0.0163782])"
      ]
     },
     "execution_count": 4,
     "metadata": {},
     "output_type": "execute_result"
    }
   ],
   "source": [
    "y1avg = np.random.normal(0,1,1) #Must change this, it is curently just random\n",
    "y1avg"
   ]
  },
  {
   "cell_type": "code",
   "execution_count": 5,
   "metadata": {},
   "outputs": [
    {
     "data": {
      "text/plain": [
       "array([1.73435088])"
      ]
     },
     "execution_count": 5,
     "metadata": {},
     "output_type": "execute_result"
    }
   ],
   "source": [
    "y2avg = np.random.normal(0,1,1) #Must change this, it is curently just random\n",
    "y2avg"
   ]
  },
  {
   "cell_type": "code",
   "execution_count": 6,
   "metadata": {},
   "outputs": [
    {
     "data": {
      "text/plain": [
       "array([0.21324548])"
      ]
     },
     "execution_count": 6,
     "metadata": {},
     "output_type": "execute_result"
    }
   ],
   "source": [
    "y3avg = np.random.normal(0,1,1) #Must change this, it is curently just random\n",
    "y3avg"
   ]
  },
  {
   "cell_type": "code",
   "execution_count": 7,
   "metadata": {},
   "outputs": [
    {
     "data": {
      "text/plain": [
       "array([-0.70523674])"
      ]
     },
     "execution_count": 7,
     "metadata": {},
     "output_type": "execute_result"
    }
   ],
   "source": [
    "y4avg = np.random.normal(0,1,1) #Must change this, it is curently just random\n",
    "y4avg"
   ]
  },
  {
   "cell_type": "markdown",
   "metadata": {},
   "source": [
    "# Forecast Using the Decomposition Method"
   ]
  },
  {
   "cell_type": "markdown",
   "metadata": {},
   "source": [
    "Calculate the seasonal index for each season each year, and then the average (over the two years) for each season."
   ]
  },
  {
   "cell_type": "code",
   "execution_count": 8,
   "metadata": {},
   "outputs": [
    {
     "data": {
      "text/html": [
       "<div>\n",
       "<style scoped>\n",
       "    .dataframe tbody tr th:only-of-type {\n",
       "        vertical-align: middle;\n",
       "    }\n",
       "\n",
       "    .dataframe tbody tr th {\n",
       "        vertical-align: top;\n",
       "    }\n",
       "\n",
       "    .dataframe thead th {\n",
       "        text-align: right;\n",
       "    }\n",
       "</style>\n",
       "<table border=\"1\" class=\"dataframe\">\n",
       "  <thead>\n",
       "    <tr style=\"text-align: right;\">\n",
       "      <th></th>\n",
       "      <th>January</th>\n",
       "      <th>February</th>\n",
       "      <th>March</th>\n",
       "      <th>April</th>\n",
       "      <th>May</th>\n",
       "      <th>June</th>\n",
       "      <th>July</th>\n",
       "      <th>August</th>\n",
       "      <th>September</th>\n",
       "      <th>October</th>\n",
       "      <th>November</th>\n",
       "      <th>December</th>\n",
       "    </tr>\n",
       "  </thead>\n",
       "  <tbody>\n",
       "    <tr>\n",
       "      <th>Year 1</th>\n",
       "      <td>1.160</td>\n",
       "      <td>1.46</td>\n",
       "      <td>1.120</td>\n",
       "      <td>1.620</td>\n",
       "      <td>0.34</td>\n",
       "      <td>0.640</td>\n",
       "      <td>0.600</td>\n",
       "      <td>1.34</td>\n",
       "      <td>1.560</td>\n",
       "      <td>1.360</td>\n",
       "      <td>1.400</td>\n",
       "      <td>1.84</td>\n",
       "    </tr>\n",
       "    <tr>\n",
       "      <th>Year 2</th>\n",
       "      <td>0.700</td>\n",
       "      <td>1.14</td>\n",
       "      <td>1.800</td>\n",
       "      <td>0.460</td>\n",
       "      <td>0.66</td>\n",
       "      <td>0.780</td>\n",
       "      <td>1.480</td>\n",
       "      <td>0.38</td>\n",
       "      <td>0.280</td>\n",
       "      <td>1.640</td>\n",
       "      <td>1.440</td>\n",
       "      <td>1.06</td>\n",
       "    </tr>\n",
       "    <tr>\n",
       "      <th>Year 3</th>\n",
       "      <td>1.440</td>\n",
       "      <td>0.24</td>\n",
       "      <td>0.720</td>\n",
       "      <td>1.440</td>\n",
       "      <td>1.06</td>\n",
       "      <td>0.620</td>\n",
       "      <td>0.100</td>\n",
       "      <td>1.00</td>\n",
       "      <td>1.800</td>\n",
       "      <td>1.300</td>\n",
       "      <td>0.020</td>\n",
       "      <td>0.18</td>\n",
       "    </tr>\n",
       "    <tr>\n",
       "      <th>Year 4</th>\n",
       "      <td>0.120</td>\n",
       "      <td>2.00</td>\n",
       "      <td>1.820</td>\n",
       "      <td>1.660</td>\n",
       "      <td>0.74</td>\n",
       "      <td>1.260</td>\n",
       "      <td>0.800</td>\n",
       "      <td>1.40</td>\n",
       "      <td>0.420</td>\n",
       "      <td>0.840</td>\n",
       "      <td>0.560</td>\n",
       "      <td>0.68</td>\n",
       "    </tr>\n",
       "    <tr>\n",
       "      <th>Average</th>\n",
       "      <td>0.855</td>\n",
       "      <td>1.21</td>\n",
       "      <td>1.365</td>\n",
       "      <td>1.295</td>\n",
       "      <td>0.70</td>\n",
       "      <td>0.825</td>\n",
       "      <td>0.745</td>\n",
       "      <td>1.03</td>\n",
       "      <td>1.015</td>\n",
       "      <td>1.285</td>\n",
       "      <td>0.855</td>\n",
       "      <td>0.94</td>\n",
       "    </tr>\n",
       "  </tbody>\n",
       "</table>\n",
       "</div>"
      ],
      "text/plain": [
       "         January  February  March  April   May   June   July  August  \\\n",
       "Year 1     1.160      1.46  1.120  1.620  0.34  0.640  0.600    1.34   \n",
       "Year 2     0.700      1.14  1.800  0.460  0.66  0.780  1.480    0.38   \n",
       "Year 3     1.440      0.24  0.720  1.440  1.06  0.620  0.100    1.00   \n",
       "Year 4     0.120      2.00  1.820  1.660  0.74  1.260  0.800    1.40   \n",
       "Average    0.855      1.21  1.365  1.295  0.70  0.825  0.745    1.03   \n",
       "\n",
       "         September  October  November  December  \n",
       "Year 1       1.560    1.360     1.400      1.84  \n",
       "Year 2       0.280    1.640     1.440      1.06  \n",
       "Year 3       1.800    1.300     0.020      0.18  \n",
       "Year 4       0.420    0.840     0.560      0.68  \n",
       "Average      1.015    1.285     0.855      0.94  "
      ]
     },
     "execution_count": 8,
     "metadata": {},
     "output_type": "execute_result"
    }
   ],
   "source": [
    "values = [np.random.randint(1,101,12)/50,\n",
    "         np.random.randint(1,101,12)/50,\n",
    "         np.random.randint(1,101,12)/50,\n",
    "         np.random.randint(1,101,12)/50]#Must change this, it is curently just random\n",
    "SI = pd.DataFrame(values, columns = ['January', 'February', 'March', 'April', 'May', 'June', 'July', 'August', 'September', 'October', 'November', 'December'], index = ['Year 1', 'Year 2', 'Year 3', 'Year 4'])\n",
    "SI.loc['Average'] = SI.mean()\n",
    "SI"
   ]
  },
  {
   "cell_type": "markdown",
   "metadata": {},
   "source": [
    "Deseasonalize the data."
   ]
  },
  {
   "cell_type": "code",
   "execution_count": 9,
   "metadata": {},
   "outputs": [
    {
     "name": "stdout",
     "output_type": "stream",
     "text": [
      "y =  [383382.4561403509 315110.7438016529 359545.7875457875 408620.84942084947\n",
      " 792682.8571428572 656692.1212121212 669885.9060402684 457887.3786407767\n",
      " 391642.36453201965 313859.92217898834 363125.1461988304\n",
      " 230656.38297872336 423723.97660818713 305008.26446280995\n",
      " 342412.4542124542 406650.1930501931 796828.5714285715 610202.4242424243\n",
      " 652991.9463087247 447821.35922330094 412161.57635467977 320540.0778210117\n",
      " 350520.4678362573 231845.74468085103 413912.2807017544 317925.6198347107\n",
      " 321852.74725274724 249000.77220077222 625564.2857142858 581745.4545454546\n",
      " 680322.1476510066 456166.01941747573 454147.7832512315 348148.63813229575\n",
      " 364128.6549707602 260321.27659574462 396830.40935672517\n",
      " 252664.46280991737 310169.9633699634 362379.1505791506 684814.2857142858\n",
      " 629129.696969697 697263.0872483221 454691.2621359223 427777.3399014778\n",
      " 315528.4046692607 368624.56140350876 228909.57446808508]\n"
     ]
    }
   ],
   "source": [
    "y_dm = np.array(row[5:53])\n",
    "y_dm[0] = y_dm[0]/SI.loc['Average']['January']\n",
    "y_dm[1] = y_dm[1]/SI.loc['Average']['February']\n",
    "y_dm[2] = y_dm[2]/SI.loc['Average']['March']\n",
    "y_dm[3] = y_dm[3]/SI.loc['Average']['April']\n",
    "y_dm[4] = y_dm[4]/SI.loc['Average']['May']\n",
    "y_dm[5] = y_dm[5]/SI.loc['Average']['June']\n",
    "y_dm[6] = y_dm[6]/SI.loc['Average']['July']\n",
    "y_dm[7] = y_dm[7]/SI.loc['Average']['August']\n",
    "y_dm[8] = y_dm[8]/SI.loc['Average']['September']\n",
    "y_dm[9] = y_dm[9]/SI.loc['Average']['October']\n",
    "y_dm[10] = y_dm[10]/SI.loc['Average']['November']\n",
    "y_dm[11] = y_dm[11]/SI.loc['Average']['December']\n",
    "y_dm[12] = y_dm[12]/SI.loc['Average']['January']\n",
    "y_dm[13] = y_dm[13]/SI.loc['Average']['February']\n",
    "y_dm[14] = y_dm[14]/SI.loc['Average']['March']\n",
    "y_dm[15] = y_dm[15]/SI.loc['Average']['April']\n",
    "y_dm[16] = y_dm[16]/SI.loc['Average']['May']\n",
    "y_dm[17] = y_dm[17]/SI.loc['Average']['June']\n",
    "y_dm[18] = y_dm[18]/SI.loc['Average']['July']\n",
    "y_dm[19] = y_dm[19]/SI.loc['Average']['August']\n",
    "y_dm[20] = y_dm[20]/SI.loc['Average']['September']\n",
    "y_dm[21] = y_dm[21]/SI.loc['Average']['October']\n",
    "y_dm[22] = y_dm[22]/SI.loc['Average']['November']\n",
    "y_dm[23] = y_dm[23]/SI.loc['Average']['December']\n",
    "y_dm[24] = y_dm[24]/SI.loc['Average']['January']\n",
    "y_dm[25] = y_dm[25]/SI.loc['Average']['February']\n",
    "y_dm[26] = y_dm[26]/SI.loc['Average']['March']\n",
    "y_dm[27] = y_dm[27]/SI.loc['Average']['April']\n",
    "y_dm[28] = y_dm[28]/SI.loc['Average']['May']\n",
    "y_dm[29] = y_dm[29]/SI.loc['Average']['June']\n",
    "y_dm[30] = y_dm[30]/SI.loc['Average']['July']\n",
    "y_dm[31] = y_dm[31]/SI.loc['Average']['August']\n",
    "y_dm[32] = y_dm[32]/SI.loc['Average']['September']\n",
    "y_dm[33] = y_dm[33]/SI.loc['Average']['October']\n",
    "y_dm[34] = y_dm[34]/SI.loc['Average']['November']\n",
    "y_dm[35] = y_dm[35]/SI.loc['Average']['December']\n",
    "y_dm[36] = y_dm[36]/SI.loc['Average']['January']\n",
    "y_dm[37] = y_dm[37]/SI.loc['Average']['February']\n",
    "y_dm[38] = y_dm[38]/SI.loc['Average']['March']\n",
    "y_dm[39] = y_dm[39]/SI.loc['Average']['April']\n",
    "y_dm[40] = y_dm[40]/SI.loc['Average']['May']\n",
    "y_dm[41] = y_dm[41]/SI.loc['Average']['June']\n",
    "y_dm[42] = y_dm[42]/SI.loc['Average']['July']\n",
    "y_dm[43] = y_dm[43]/SI.loc['Average']['August']\n",
    "y_dm[44] = y_dm[44]/SI.loc['Average']['September']\n",
    "y_dm[45] = y_dm[45]/SI.loc['Average']['October']\n",
    "y_dm[46] = y_dm[46]/SI.loc['Average']['November']\n",
    "y_dm[47] = y_dm[47]/SI.loc['Average']['December']\n",
    "print(\"y = \",y_dm)"
   ]
  },
  {
   "cell_type": "markdown",
   "metadata": {},
   "source": [
    "Perform simple linear regression to extract trend."
   ]
  },
  {
   "cell_type": "code",
   "execution_count": 10,
   "metadata": {},
   "outputs": [
    {
     "name": "stdout",
     "output_type": "stream",
     "text": [
      "Coefficient of determination: 0.007336645939195252\n",
      "Intercept: 457498.07936610846\n",
      "Slope: -947.3562573264942\n"
     ]
    }
   ],
   "source": [
    "model_dm = LinearRegression()\n",
    "x = np.arange(1, 49).reshape((-1, 1))\n",
    "model_dm.fit(x,y_dm)\n",
    "r_sq_dm = model_dm.score(x, y_dm)\n",
    "print('Coefficient of determination:', r_sq_dm)\n",
    "intercept_dm = model_dm.intercept_\n",
    "print('Intercept:', intercept_dm)\n",
    "slope_dm = model_dm.coef_[0]\n",
    "print('Slope:', slope_dm)"
   ]
  },
  {
   "cell_type": "markdown",
   "metadata": {},
   "source": [
    "Extend the trend to year 5. "
   ]
  },
  {
   "cell_type": "code",
   "execution_count": 11,
   "metadata": {},
   "outputs": [
    {
     "data": {
      "text/plain": [
       "[411077.6227571102,\n",
       " 410130.2664997837,\n",
       " 409182.91024245723,\n",
       " 408235.55398513074,\n",
       " 407288.19772780425,\n",
       " 406340.84147047775,\n",
       " 405393.48521315126,\n",
       " 404446.12895582477,\n",
       " 403498.7726984983,\n",
       " 402551.4164411718,\n",
       " 401604.0601838453,\n",
       " 400656.7039265188]"
      ]
     },
     "execution_count": 11,
     "metadata": {},
     "output_type": "execute_result"
    }
   ],
   "source": [
    "#The forecast calculation is explicitly stated here but you can use sklearn's Predict function, as well (https://scikit-learn.org/stable/modules/generated/sklearn.linear_model.LinearRegression.html).\n",
    "forecast_dm = []\n",
    "for t in range(49,61):\n",
    "    forecast_dm.append(intercept_dm + t*slope_dm)\n",
    "forecast_dm"
   ]
  },
  {
   "cell_type": "markdown",
   "metadata": {},
   "source": [
    "Seasonalize year 5 forecasts."
   ]
  },
  {
   "cell_type": "code",
   "execution_count": 12,
   "metadata": {},
   "outputs": [
    {
     "data": {
      "text/plain": [
       "[351471.36745732924,\n",
       " 496257.6224647383,\n",
       " 558534.6724809541,\n",
       " 528665.0424107442,\n",
       " 285101.73840946297,\n",
       " 335231.19421314413,\n",
       " 302018.14648379775,\n",
       " 416579.5128244995,\n",
       " 409551.2542889758,\n",
       " 517278.5701269057,\n",
       " 343371.4714571877,\n",
       " 376617.3016909277]"
      ]
     },
     "execution_count": 12,
     "metadata": {},
     "output_type": "execute_result"
    }
   ],
   "source": [
    "forecast_dm[0] = forecast_dm[0]*SI.loc['Average']['January']\n",
    "forecast_dm[1] = forecast_dm[1]*SI.loc['Average']['February']\n",
    "forecast_dm[2] = forecast_dm[2]*SI.loc['Average']['March']\n",
    "forecast_dm[3] = forecast_dm[3]*SI.loc['Average']['April']\n",
    "forecast_dm[4] = forecast_dm[4]*SI.loc['Average']['May']\n",
    "forecast_dm[5] = forecast_dm[5]*SI.loc['Average']['June']\n",
    "forecast_dm[6] = forecast_dm[6]*SI.loc['Average']['July']\n",
    "forecast_dm[7] = forecast_dm[7]*SI.loc['Average']['August']\n",
    "forecast_dm[8] = forecast_dm[8]*SI.loc['Average']['September']\n",
    "forecast_dm[9] = forecast_dm[9]*SI.loc['Average']['October']\n",
    "forecast_dm[10] = forecast_dm[10]*SI.loc['Average']['November']\n",
    "forecast_dm[11] = forecast_dm[11]*SI.loc['Average']['December']\n",
    "forecast_dm"
   ]
  },
  {
   "cell_type": "markdown",
   "metadata": {},
   "source": [
    "# Forecast Using Multiple Linear Regression"
   ]
  },
  {
   "cell_type": "markdown",
   "metadata": {},
   "source": [
    "Populate independent variables"
   ]
  },
  {
   "cell_type": "code",
   "execution_count": 13,
   "metadata": {},
   "outputs": [
    {
     "data": {
      "text/plain": [
       "array([[ 1],\n",
       "       [ 2],\n",
       "       [ 3],\n",
       "       [ 4],\n",
       "       [ 5],\n",
       "       [ 6],\n",
       "       [ 7],\n",
       "       [ 8],\n",
       "       [ 9],\n",
       "       [10],\n",
       "       [11],\n",
       "       [12],\n",
       "       [13],\n",
       "       [14],\n",
       "       [15],\n",
       "       [16],\n",
       "       [17],\n",
       "       [18],\n",
       "       [19],\n",
       "       [20],\n",
       "       [21],\n",
       "       [22],\n",
       "       [23],\n",
       "       [24],\n",
       "       [25],\n",
       "       [26],\n",
       "       [27],\n",
       "       [28],\n",
       "       [29],\n",
       "       [30],\n",
       "       [31],\n",
       "       [32],\n",
       "       [33],\n",
       "       [34],\n",
       "       [35],\n",
       "       [36],\n",
       "       [37],\n",
       "       [38],\n",
       "       [39],\n",
       "       [40],\n",
       "       [41],\n",
       "       [42],\n",
       "       [43],\n",
       "       [44],\n",
       "       [45],\n",
       "       [46],\n",
       "       [47],\n",
       "       [48]])"
      ]
     },
     "execution_count": 13,
     "metadata": {},
     "output_type": "execute_result"
    }
   ],
   "source": [
    "x = np.arange(1, 49).reshape((-1, 1))#Must change this to add the dummy binary variables.\n",
    "x"
   ]
  },
  {
   "cell_type": "markdown",
   "metadata": {},
   "source": [
    "Run multiple linear regression."
   ]
  },
  {
   "cell_type": "code",
   "execution_count": 14,
   "metadata": {},
   "outputs": [
    {
     "data": {
      "text/plain": [
       "LinearRegression()"
      ]
     },
     "execution_count": 14,
     "metadata": {},
     "output_type": "execute_result"
    }
   ],
   "source": [
    "model_mlr = LinearRegression()\n",
    "model_mlr.fit(x,y_dm) #Must change this. Basically, you need to extend the simple linear regression model to take multiple independent variables. You are referred to https://scikit-learn.org/stable/modules/generated/sklearn.linear_model.LinearRegression.html for the documentation of the package we use for this purpose. Make sure you use the correct y values, too."
   ]
  },
  {
   "cell_type": "markdown",
   "metadata": {},
   "source": [
    "Calculate the forecasts."
   ]
  },
  {
   "cell_type": "code",
   "execution_count": 15,
   "metadata": {},
   "outputs": [
    {
     "data": {
      "text/plain": [
       "[]"
      ]
     },
     "execution_count": 15,
     "metadata": {},
     "output_type": "execute_result"
    }
   ],
   "source": [
    "forecast_mlr = []\n",
    "#Must add this. Decide first whether you want to calculate the forecasts explicitly or via sklearn's Predict function (https://scikit-learn.org/stable/modules/generated/sklearn.linear_model.LinearRegression.html) and then execute.\n",
    "forecast_mlr"
   ]
  },
  {
   "cell_type": "markdown",
   "metadata": {},
   "source": [
    "# Calculate Forecast Accuracy"
   ]
  },
  {
   "cell_type": "code",
   "execution_count": 16,
   "metadata": {},
   "outputs": [
    {
     "data": {
      "text/plain": [
       "[253159.0, 284434.0, 385837.0, 417512.0, 440501.0, 474768.0, 409400.0, 361392]"
      ]
     },
     "execution_count": 16,
     "metadata": {},
     "output_type": "execute_result"
    }
   ],
   "source": [
    "actual_Year5 = []\n",
    "for t in range(53,61):\n",
    "    actual_Year5.append(row[t])\n",
    "actual_Year5"
   ]
  },
  {
   "cell_type": "code",
   "execution_count": 17,
   "metadata": {},
   "outputs": [
    {
     "name": "stdout",
     "output_type": "stream",
     "text": [
      "MAD_DM: 0.5681207977180651\n",
      "MAD_MLR: 0.7703298505811399\n"
     ]
    }
   ],
   "source": [
    "deviation_dm = []\n",
    "deviation_mlr = []\n",
    "for t in range(8):\n",
    "    deviation_dm.append(np.random.normal(0,1,1)) #Must change this, it is curently just random\n",
    "    deviation_mlr.append(np.random.normal(0,1,1)) #Must change this, it is curently just random\n",
    "MAD_dm = pf.CalculateMeanAbsoluteDeviation(deviation_dm)\n",
    "MAD_mlr = pf.CalculateMeanAbsoluteDeviation(deviation_mlr)\n",
    "print(\"MAD_DM:\",MAD_dm)\n",
    "print(\"MAD_MLR:\",MAD_mlr)"
   ]
  }
 ],
 "metadata": {
  "kernelspec": {
   "display_name": "Python 3",
   "language": "python",
   "name": "python3"
  },
  "language_info": {
   "codemirror_mode": {
    "name": "ipython",
    "version": 3
   },
   "file_extension": ".py",
   "mimetype": "text/x-python",
   "name": "python",
   "nbconvert_exporter": "python",
   "pygments_lexer": "ipython3",
   "version": "3.8.3"
  }
 },
 "nbformat": 4,
 "nbformat_minor": 4
}

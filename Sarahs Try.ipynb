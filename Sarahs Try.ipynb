{
 "cells": [
  {
   "cell_type": "code",
   "execution_count": 34,
   "metadata": {},
   "outputs": [],
   "source": [
    "import pandas as pd\n",
    "import numpy as np\n",
    "from sklearn.linear_model import LinearRegression\n",
    "import math\n",
    "import matplotlib.pyplot as plt\n",
    "import matplotlib as mpl\n",
    "import PublicFunctions as pf"
   ]
  },
  {
   "cell_type": "markdown",
   "metadata": {},
   "source": [
    "# Read"
   ]
  },
  {
   "cell_type": "markdown",
   "metadata": {},
   "source": [
    "The data was downloaded from Zillow Research (https://www.zillow.com/research/data/ --> Inventory --> New Listings (Raw, All Homes, Montly View)) as the .csv file given here. Column headers represent the last day of the month, which we simply refer to as the month, i.e., column '2018-1-31' is 'January 2018.'"
   ]
  },
  {
   "cell_type": "code",
   "execution_count": 35,
   "metadata": {
    "scrolled": true
   },
   "outputs": [
    {
     "data": {
      "text/html": [
       "<div>\n",
       "<style scoped>\n",
       "    .dataframe tbody tr th:only-of-type {\n",
       "        vertical-align: middle;\n",
       "    }\n",
       "\n",
       "    .dataframe tbody tr th {\n",
       "        vertical-align: top;\n",
       "    }\n",
       "\n",
       "    .dataframe thead th {\n",
       "        text-align: right;\n",
       "    }\n",
       "</style>\n",
       "<table border=\"1\" class=\"dataframe\">\n",
       "  <thead>\n",
       "    <tr style=\"text-align: right;\">\n",
       "      <th></th>\n",
       "      <th>RegionID</th>\n",
       "      <th>SizeRank</th>\n",
       "      <th>RegionName</th>\n",
       "      <th>RegionType</th>\n",
       "      <th>StateName</th>\n",
       "      <th>1/31/2018</th>\n",
       "      <th>2/28/2018</th>\n",
       "      <th>3/31/2018</th>\n",
       "      <th>4/30/2018</th>\n",
       "      <th>5/31/2018</th>\n",
       "      <th>...</th>\n",
       "      <th>11/30/2021</th>\n",
       "      <th>12/31/2021</th>\n",
       "      <th>1/31/2022</th>\n",
       "      <th>2/28/2022</th>\n",
       "      <th>3/31/2022</th>\n",
       "      <th>4/30/2022</th>\n",
       "      <th>5/31/2022</th>\n",
       "      <th>6/30/2022</th>\n",
       "      <th>7/31/2022</th>\n",
       "      <th>8/31/2022</th>\n",
       "    </tr>\n",
       "  </thead>\n",
       "  <tbody>\n",
       "    <tr>\n",
       "      <th>0</th>\n",
       "      <td>102001</td>\n",
       "      <td>0</td>\n",
       "      <td>United States</td>\n",
       "      <td>country</td>\n",
       "      <td>NaN</td>\n",
       "      <td>327792.0</td>\n",
       "      <td>381284.0</td>\n",
       "      <td>490780.0</td>\n",
       "      <td>529164.0</td>\n",
       "      <td>554878.0</td>\n",
       "      <td>...</td>\n",
       "      <td>315174.0</td>\n",
       "      <td>215175.0</td>\n",
       "      <td>253159.0</td>\n",
       "      <td>284434.0</td>\n",
       "      <td>385837.0</td>\n",
       "      <td>417512.0</td>\n",
       "      <td>440501.0</td>\n",
       "      <td>474768.0</td>\n",
       "      <td>409400.0</td>\n",
       "      <td>361392</td>\n",
       "    </tr>\n",
       "    <tr>\n",
       "      <th>1</th>\n",
       "      <td>394913</td>\n",
       "      <td>1</td>\n",
       "      <td>New York, NY</td>\n",
       "      <td>msa</td>\n",
       "      <td>NY</td>\n",
       "      <td>14997.0</td>\n",
       "      <td>22401.0</td>\n",
       "      <td>23484.0</td>\n",
       "      <td>26845.0</td>\n",
       "      <td>26302.0</td>\n",
       "      <td>...</td>\n",
       "      <td>12043.0</td>\n",
       "      <td>6911.0</td>\n",
       "      <td>9214.0</td>\n",
       "      <td>11516.0</td>\n",
       "      <td>16027.0</td>\n",
       "      <td>16427.0</td>\n",
       "      <td>17057.0</td>\n",
       "      <td>17237.0</td>\n",
       "      <td>14057.0</td>\n",
       "      <td>11642</td>\n",
       "    </tr>\n",
       "    <tr>\n",
       "      <th>2</th>\n",
       "      <td>753899</td>\n",
       "      <td>2</td>\n",
       "      <td>Los Angeles, CA</td>\n",
       "      <td>msa</td>\n",
       "      <td>CA</td>\n",
       "      <td>8274.0</td>\n",
       "      <td>9505.0</td>\n",
       "      <td>10523.0</td>\n",
       "      <td>11052.0</td>\n",
       "      <td>11871.0</td>\n",
       "      <td>...</td>\n",
       "      <td>6591.0</td>\n",
       "      <td>4466.0</td>\n",
       "      <td>6533.0</td>\n",
       "      <td>7619.0</td>\n",
       "      <td>9115.0</td>\n",
       "      <td>9312.0</td>\n",
       "      <td>9413.0</td>\n",
       "      <td>9847.0</td>\n",
       "      <td>8691.0</td>\n",
       "      <td>7464</td>\n",
       "    </tr>\n",
       "    <tr>\n",
       "      <th>3</th>\n",
       "      <td>394463</td>\n",
       "      <td>3</td>\n",
       "      <td>Chicago, IL</td>\n",
       "      <td>msa</td>\n",
       "      <td>IL</td>\n",
       "      <td>8795.0</td>\n",
       "      <td>11937.0</td>\n",
       "      <td>17632.0</td>\n",
       "      <td>17154.0</td>\n",
       "      <td>17315.0</td>\n",
       "      <td>...</td>\n",
       "      <td>8726.0</td>\n",
       "      <td>5380.0</td>\n",
       "      <td>7253.0</td>\n",
       "      <td>8960.0</td>\n",
       "      <td>12644.0</td>\n",
       "      <td>13390.0</td>\n",
       "      <td>13876.0</td>\n",
       "      <td>14605.0</td>\n",
       "      <td>12056.0</td>\n",
       "      <td>10313</td>\n",
       "    </tr>\n",
       "    <tr>\n",
       "      <th>4</th>\n",
       "      <td>394514</td>\n",
       "      <td>4</td>\n",
       "      <td>Dallas, TX</td>\n",
       "      <td>msa</td>\n",
       "      <td>TX</td>\n",
       "      <td>7848.0</td>\n",
       "      <td>8186.0</td>\n",
       "      <td>11131.0</td>\n",
       "      <td>12357.0</td>\n",
       "      <td>12362.0</td>\n",
       "      <td>...</td>\n",
       "      <td>7995.0</td>\n",
       "      <td>5751.0</td>\n",
       "      <td>6202.0</td>\n",
       "      <td>6155.0</td>\n",
       "      <td>8376.0</td>\n",
       "      <td>9647.0</td>\n",
       "      <td>10372.0</td>\n",
       "      <td>12367.0</td>\n",
       "      <td>10742.0</td>\n",
       "      <td>8544</td>\n",
       "    </tr>\n",
       "    <tr>\n",
       "      <th>...</th>\n",
       "      <td>...</td>\n",
       "      <td>...</td>\n",
       "      <td>...</td>\n",
       "      <td>...</td>\n",
       "      <td>...</td>\n",
       "      <td>...</td>\n",
       "      <td>...</td>\n",
       "      <td>...</td>\n",
       "      <td>...</td>\n",
       "      <td>...</td>\n",
       "      <td>...</td>\n",
       "      <td>...</td>\n",
       "      <td>...</td>\n",
       "      <td>...</td>\n",
       "      <td>...</td>\n",
       "      <td>...</td>\n",
       "      <td>...</td>\n",
       "      <td>...</td>\n",
       "      <td>...</td>\n",
       "      <td>...</td>\n",
       "      <td>...</td>\n",
       "    </tr>\n",
       "    <tr>\n",
       "      <th>884</th>\n",
       "      <td>753929</td>\n",
       "      <td>923</td>\n",
       "      <td>Zapata, TX</td>\n",
       "      <td>msa</td>\n",
       "      <td>TX</td>\n",
       "      <td>NaN</td>\n",
       "      <td>NaN</td>\n",
       "      <td>NaN</td>\n",
       "      <td>NaN</td>\n",
       "      <td>NaN</td>\n",
       "      <td>...</td>\n",
       "      <td>NaN</td>\n",
       "      <td>NaN</td>\n",
       "      <td>NaN</td>\n",
       "      <td>NaN</td>\n",
       "      <td>NaN</td>\n",
       "      <td>NaN</td>\n",
       "      <td>NaN</td>\n",
       "      <td>6.0</td>\n",
       "      <td>NaN</td>\n",
       "      <td>6</td>\n",
       "    </tr>\n",
       "    <tr>\n",
       "      <th>885</th>\n",
       "      <td>394743</td>\n",
       "      <td>924</td>\n",
       "      <td>Ketchikan, AK</td>\n",
       "      <td>msa</td>\n",
       "      <td>AK</td>\n",
       "      <td>NaN</td>\n",
       "      <td>NaN</td>\n",
       "      <td>NaN</td>\n",
       "      <td>NaN</td>\n",
       "      <td>NaN</td>\n",
       "      <td>...</td>\n",
       "      <td>NaN</td>\n",
       "      <td>NaN</td>\n",
       "      <td>NaN</td>\n",
       "      <td>9.0</td>\n",
       "      <td>12.0</td>\n",
       "      <td>15.0</td>\n",
       "      <td>7.0</td>\n",
       "      <td>9.0</td>\n",
       "      <td>13.0</td>\n",
       "      <td>7</td>\n",
       "    </tr>\n",
       "    <tr>\n",
       "      <th>886</th>\n",
       "      <td>753874</td>\n",
       "      <td>925</td>\n",
       "      <td>Craig, CO</td>\n",
       "      <td>msa</td>\n",
       "      <td>CO</td>\n",
       "      <td>19.0</td>\n",
       "      <td>25.0</td>\n",
       "      <td>24.0</td>\n",
       "      <td>34.0</td>\n",
       "      <td>51.0</td>\n",
       "      <td>...</td>\n",
       "      <td>14.0</td>\n",
       "      <td>10.0</td>\n",
       "      <td>14.0</td>\n",
       "      <td>9.0</td>\n",
       "      <td>20.0</td>\n",
       "      <td>30.0</td>\n",
       "      <td>33.0</td>\n",
       "      <td>22.0</td>\n",
       "      <td>20.0</td>\n",
       "      <td>28</td>\n",
       "    </tr>\n",
       "    <tr>\n",
       "      <th>887</th>\n",
       "      <td>394767</td>\n",
       "      <td>926</td>\n",
       "      <td>Lamesa, TX</td>\n",
       "      <td>msa</td>\n",
       "      <td>TX</td>\n",
       "      <td>NaN</td>\n",
       "      <td>NaN</td>\n",
       "      <td>NaN</td>\n",
       "      <td>NaN</td>\n",
       "      <td>NaN</td>\n",
       "      <td>...</td>\n",
       "      <td>NaN</td>\n",
       "      <td>NaN</td>\n",
       "      <td>NaN</td>\n",
       "      <td>NaN</td>\n",
       "      <td>13.0</td>\n",
       "      <td>6.0</td>\n",
       "      <td>8.0</td>\n",
       "      <td>11.0</td>\n",
       "      <td>10.0</td>\n",
       "      <td>18</td>\n",
       "    </tr>\n",
       "    <tr>\n",
       "      <th>888</th>\n",
       "      <td>395188</td>\n",
       "      <td>927</td>\n",
       "      <td>Vernon, TX</td>\n",
       "      <td>msa</td>\n",
       "      <td>TX</td>\n",
       "      <td>NaN</td>\n",
       "      <td>NaN</td>\n",
       "      <td>NaN</td>\n",
       "      <td>NaN</td>\n",
       "      <td>NaN</td>\n",
       "      <td>...</td>\n",
       "      <td>NaN</td>\n",
       "      <td>NaN</td>\n",
       "      <td>NaN</td>\n",
       "      <td>NaN</td>\n",
       "      <td>5.0</td>\n",
       "      <td>6.0</td>\n",
       "      <td>8.0</td>\n",
       "      <td>7.0</td>\n",
       "      <td>6.0</td>\n",
       "      <td>12</td>\n",
       "    </tr>\n",
       "  </tbody>\n",
       "</table>\n",
       "<p>889 rows × 61 columns</p>\n",
       "</div>"
      ],
      "text/plain": [
       "     RegionID  SizeRank       RegionName RegionType StateName  1/31/2018  \\\n",
       "0      102001         0    United States    country       NaN   327792.0   \n",
       "1      394913         1     New York, NY        msa        NY    14997.0   \n",
       "2      753899         2  Los Angeles, CA        msa        CA     8274.0   \n",
       "3      394463         3      Chicago, IL        msa        IL     8795.0   \n",
       "4      394514         4       Dallas, TX        msa        TX     7848.0   \n",
       "..        ...       ...              ...        ...       ...        ...   \n",
       "884    753929       923       Zapata, TX        msa        TX        NaN   \n",
       "885    394743       924    Ketchikan, AK        msa        AK        NaN   \n",
       "886    753874       925        Craig, CO        msa        CO       19.0   \n",
       "887    394767       926       Lamesa, TX        msa        TX        NaN   \n",
       "888    395188       927       Vernon, TX        msa        TX        NaN   \n",
       "\n",
       "     2/28/2018  3/31/2018  4/30/2018  5/31/2018  ...  11/30/2021  12/31/2021  \\\n",
       "0     381284.0   490780.0   529164.0   554878.0  ...    315174.0    215175.0   \n",
       "1      22401.0    23484.0    26845.0    26302.0  ...     12043.0      6911.0   \n",
       "2       9505.0    10523.0    11052.0    11871.0  ...      6591.0      4466.0   \n",
       "3      11937.0    17632.0    17154.0    17315.0  ...      8726.0      5380.0   \n",
       "4       8186.0    11131.0    12357.0    12362.0  ...      7995.0      5751.0   \n",
       "..         ...        ...        ...        ...  ...         ...         ...   \n",
       "884        NaN        NaN        NaN        NaN  ...         NaN         NaN   \n",
       "885        NaN        NaN        NaN        NaN  ...         NaN         NaN   \n",
       "886       25.0       24.0       34.0       51.0  ...        14.0        10.0   \n",
       "887        NaN        NaN        NaN        NaN  ...         NaN         NaN   \n",
       "888        NaN        NaN        NaN        NaN  ...         NaN         NaN   \n",
       "\n",
       "     1/31/2022  2/28/2022  3/31/2022  4/30/2022  5/31/2022  6/30/2022  \\\n",
       "0     253159.0   284434.0   385837.0   417512.0   440501.0   474768.0   \n",
       "1       9214.0    11516.0    16027.0    16427.0    17057.0    17237.0   \n",
       "2       6533.0     7619.0     9115.0     9312.0     9413.0     9847.0   \n",
       "3       7253.0     8960.0    12644.0    13390.0    13876.0    14605.0   \n",
       "4       6202.0     6155.0     8376.0     9647.0    10372.0    12367.0   \n",
       "..         ...        ...        ...        ...        ...        ...   \n",
       "884        NaN        NaN        NaN        NaN        NaN        6.0   \n",
       "885        NaN        9.0       12.0       15.0        7.0        9.0   \n",
       "886       14.0        9.0       20.0       30.0       33.0       22.0   \n",
       "887        NaN        NaN       13.0        6.0        8.0       11.0   \n",
       "888        NaN        NaN        5.0        6.0        8.0        7.0   \n",
       "\n",
       "     7/31/2022  8/31/2022  \n",
       "0     409400.0     361392  \n",
       "1      14057.0      11642  \n",
       "2       8691.0       7464  \n",
       "3      12056.0      10313  \n",
       "4      10742.0       8544  \n",
       "..         ...        ...  \n",
       "884        NaN          6  \n",
       "885       13.0          7  \n",
       "886       20.0         28  \n",
       "887       10.0         18  \n",
       "888        6.0         12  \n",
       "\n",
       "[889 rows x 61 columns]"
      ]
     },
     "execution_count": 35,
     "metadata": {},
     "output_type": "execute_result"
    }
   ],
   "source": [
    "df = pd.read_csv('Metro_new_listings_uc_sfrcondo_month.csv')\n",
    "df"
   ]
  },
  {
   "cell_type": "markdown",
   "metadata": {},
   "source": [
    "# Isolate the data for the team"
   ]
  },
  {
   "cell_type": "code",
   "execution_count": 36,
   "metadata": {},
   "outputs": [
    {
     "data": {
      "text/plain": [
       "RegionID               395055\n",
       "SizeRank                   24\n",
       "RegionName    San Antonio, TX\n",
       "RegionType                msa\n",
       "StateName                  TX\n",
       "                   ...       \n",
       "4/30/2022              3204.0\n",
       "5/31/2022              3472.0\n",
       "6/30/2022              3908.0\n",
       "7/31/2022              3573.0\n",
       "8/31/2022                3147\n",
       "Name: 24, Length: 61, dtype: object"
      ]
     },
     "execution_count": 36,
     "metadata": {},
     "output_type": "execute_result"
    }
   ],
   "source": [
    "team = 24\n",
    "row = df.iloc[team]\n",
    "row"
   ]
  },
  {
   "cell_type": "markdown",
   "metadata": {},
   "source": [
    "Calculate the monthly averages for years 1 thru 4. "
   ]
  },
  {
   "cell_type": "code",
   "execution_count": 37,
   "metadata": {},
   "outputs": [
    {
     "data": {
      "text/plain": [
       "2865.3333333333335"
      ]
     },
     "execution_count": 37,
     "metadata": {},
     "output_type": "execute_result"
    }
   ],
   "source": [
    "# 2018\n",
    "y1 = row[row.keys()[5:17]]\n",
    "y1avg = y1.mean()\n",
    "y1avg"
   ]
  },
  {
   "cell_type": "code",
   "execution_count": 38,
   "metadata": {},
   "outputs": [
    {
     "data": {
      "text/plain": [
       "3000.4166666666665"
      ]
     },
     "execution_count": 38,
     "metadata": {},
     "output_type": "execute_result"
    }
   ],
   "source": [
    "y2 = row[row.keys()[17:29]]\n",
    "y2avg = y2.mean()\n",
    "y2avg "
   ]
  },
  {
   "cell_type": "code",
   "execution_count": 39,
   "metadata": {},
   "outputs": [
    {
     "data": {
      "text/plain": [
       "2834.0"
      ]
     },
     "execution_count": 39,
     "metadata": {},
     "output_type": "execute_result"
    }
   ],
   "source": [
    "y3 = row[row.keys()[29:41]]\n",
    "y3avg = y3.mean()\n",
    "y3avg "
   ]
  },
  {
   "cell_type": "code",
   "execution_count": 40,
   "metadata": {},
   "outputs": [
    {
     "data": {
      "text/plain": [
       "3118.75"
      ]
     },
     "execution_count": 40,
     "metadata": {},
     "output_type": "execute_result"
    }
   ],
   "source": [
    "y4 = row[row.keys()[41:53]]\n",
    "y4avg = y4.mean()\n",
    "y4avg "
   ]
  },
  {
   "cell_type": "code",
   "execution_count": 45,
   "metadata": {},
   "outputs": [
    {
     "data": {
      "text/plain": [
       "array([0.7726849697533736, 0.9136807817589576, 1.1848534201954397,\n",
       "       1.2354583527221963, 1.2860632852489529, 1.2543043275942298,\n",
       "       1.1771754304327593, 1.101442531409958, 0.792577943229409,\n",
       "       0.8923918101442531, 0.7992089343880875, 0.5901582131223825],\n",
       "      dtype=object)"
      ]
     },
     "execution_count": 45,
     "metadata": {},
     "output_type": "execute_result"
    }
   ],
   "source": [
    "(y1/y1avg).values\n",
    "# (y1/y1avg).values\n",
    "# np.random.randint(1,101,12)/50"
   ]
  },
  {
   "cell_type": "markdown",
   "metadata": {},
   "source": [
    "# Forecast Using the Decomposition Method"
   ]
  },
  {
   "cell_type": "markdown",
   "metadata": {},
   "source": [
    "Calculate the seasonal index for each season each year, and then the average (over the two years) for each season."
   ]
  },
  {
   "cell_type": "code",
   "execution_count": 49,
   "metadata": {},
   "outputs": [
    {
     "data": {
      "text/html": [
       "<div>\n",
       "<style scoped>\n",
       "    .dataframe tbody tr th:only-of-type {\n",
       "        vertical-align: middle;\n",
       "    }\n",
       "\n",
       "    .dataframe tbody tr th {\n",
       "        vertical-align: top;\n",
       "    }\n",
       "\n",
       "    .dataframe thead th {\n",
       "        text-align: right;\n",
       "    }\n",
       "</style>\n",
       "<table border=\"1\" class=\"dataframe\">\n",
       "  <thead>\n",
       "    <tr style=\"text-align: right;\">\n",
       "      <th></th>\n",
       "      <th>January</th>\n",
       "      <th>February</th>\n",
       "      <th>March</th>\n",
       "      <th>April</th>\n",
       "      <th>May</th>\n",
       "      <th>June</th>\n",
       "      <th>July</th>\n",
       "      <th>August</th>\n",
       "      <th>September</th>\n",
       "      <th>October</th>\n",
       "      <th>November</th>\n",
       "      <th>December</th>\n",
       "    </tr>\n",
       "  </thead>\n",
       "  <tbody>\n",
       "    <tr>\n",
       "      <th>Year 1</th>\n",
       "      <td>0.772685</td>\n",
       "      <td>0.913681</td>\n",
       "      <td>1.184853</td>\n",
       "      <td>1.235458</td>\n",
       "      <td>1.286063</td>\n",
       "      <td>1.254304</td>\n",
       "      <td>1.177175</td>\n",
       "      <td>1.101443</td>\n",
       "      <td>0.792578</td>\n",
       "      <td>0.892392</td>\n",
       "      <td>0.799209</td>\n",
       "      <td>0.590158</td>\n",
       "    </tr>\n",
       "    <tr>\n",
       "      <th>Year 2</th>\n",
       "      <td>0.860547</td>\n",
       "      <td>0.865213</td>\n",
       "      <td>1.140175</td>\n",
       "      <td>1.199833</td>\n",
       "      <td>1.266491</td>\n",
       "      <td>1.184502</td>\n",
       "      <td>1.189501</td>\n",
       "      <td>1.068518</td>\n",
       "      <td>0.888210</td>\n",
       "      <td>0.949868</td>\n",
       "      <td>0.787557</td>\n",
       "      <td>0.599583</td>\n",
       "    </tr>\n",
       "    <tr>\n",
       "      <th>Year 3</th>\n",
       "      <td>0.911080</td>\n",
       "      <td>1.025759</td>\n",
       "      <td>1.107975</td>\n",
       "      <td>0.921313</td>\n",
       "      <td>1.153140</td>\n",
       "      <td>1.149259</td>\n",
       "      <td>1.236768</td>\n",
       "      <td>1.104093</td>\n",
       "      <td>0.988003</td>\n",
       "      <td>1.005999</td>\n",
       "      <td>0.769584</td>\n",
       "      <td>0.627029</td>\n",
       "    </tr>\n",
       "    <tr>\n",
       "      <th>Year 4</th>\n",
       "      <td>0.861563</td>\n",
       "      <td>0.624289</td>\n",
       "      <td>0.954549</td>\n",
       "      <td>1.102685</td>\n",
       "      <td>1.150140</td>\n",
       "      <td>1.250180</td>\n",
       "      <td>1.388377</td>\n",
       "      <td>1.166172</td>\n",
       "      <td>1.021884</td>\n",
       "      <td>0.995912</td>\n",
       "      <td>0.833988</td>\n",
       "      <td>0.650261</td>\n",
       "    </tr>\n",
       "    <tr>\n",
       "      <th>Average</th>\n",
       "      <td>0.851469</td>\n",
       "      <td>0.857235</td>\n",
       "      <td>1.096888</td>\n",
       "      <td>1.114822</td>\n",
       "      <td>1.213959</td>\n",
       "      <td>1.209561</td>\n",
       "      <td>1.247955</td>\n",
       "      <td>1.110057</td>\n",
       "      <td>0.922669</td>\n",
       "      <td>0.961043</td>\n",
       "      <td>0.797584</td>\n",
       "      <td>0.616758</td>\n",
       "    </tr>\n",
       "  </tbody>\n",
       "</table>\n",
       "</div>"
      ],
      "text/plain": [
       "          January  February     March     April       May      June      July  \\\n",
       "Year 1   0.772685  0.913681  1.184853  1.235458  1.286063  1.254304  1.177175   \n",
       "Year 2   0.860547  0.865213  1.140175  1.199833  1.266491  1.184502  1.189501   \n",
       "Year 3   0.911080  1.025759  1.107975  0.921313  1.153140  1.149259  1.236768   \n",
       "Year 4   0.861563  0.624289  0.954549  1.102685  1.150140  1.250180  1.388377   \n",
       "Average  0.851469  0.857235  1.096888  1.114822  1.213959  1.209561  1.247955   \n",
       "\n",
       "           August  September   October  November  December  \n",
       "Year 1   1.101443   0.792578  0.892392  0.799209  0.590158  \n",
       "Year 2   1.068518   0.888210  0.949868  0.787557  0.599583  \n",
       "Year 3   1.104093   0.988003  1.005999  0.769584  0.627029  \n",
       "Year 4   1.166172   1.021884  0.995912  0.833988  0.650261  \n",
       "Average  1.110057   0.922669  0.961043  0.797584  0.616758  "
      ]
     },
     "execution_count": 49,
     "metadata": {},
     "output_type": "execute_result"
    }
   ],
   "source": [
    "values = [(y1/y1avg).values,\n",
    "         (y2/y2avg).values,\n",
    "         (y3/y3avg).values,\n",
    "         (y4/y4avg).values]\n",
    "SI = pd.DataFrame(values, columns = ['January', 'February', 'March', 'April', 'May', 'June', 'July', 'August', 'September', 'October', 'November', 'December'], index = ['Year 1', 'Year 2', 'Year 3', 'Year 4'])\n",
    "SI.loc['Average'] = SI.mean()\n",
    "SI"
   ]
  },
  {
   "cell_type": "markdown",
   "metadata": {},
   "source": [
    "Deseasonalize the data."
   ]
  },
  {
   "cell_type": "code",
   "execution_count": 52,
   "metadata": {},
   "outputs": [
    {
     "name": "stdout",
     "output_type": "stream",
     "text": [
      "y =  [2600.2128764973745 3054.003986816006 3095.119949961233 3175.3935971143023\n",
      " 3035.523386327108 2971.3248312181745 2702.8210252128188 2843.098339995417\n",
      " 2461.338703536447 2660.6521594557125 2871.1692970142567\n",
      " 2741.7571308341526 3032.4072480199734 3028.3400877671324\n",
      " 3118.8233722584323 3229.2138275738666 3130.254781015742 2938.254994476737\n",
      " 2859.8779243950635 2888.141089361631 2888.3609180645667\n",
      " 2965.5293916498945 2962.695654517331 2916.866397617174 3032.4072480199734\n",
      " 3391.1342970489422 2862.6440774310076 2342.077028832046 2692.019111673538\n",
      " 2692.7114566715622 2808.5940389478 2818.7752553376617 3034.6756362404453\n",
      " 2966.5699282785436 2734.506653619255 2881.1959914206323\n",
      " 3155.7235768511496 2271.255065825349 2714.0418530293346\n",
      " 3084.7962091740355 2954.795763027228 3223.482336371637 3469.675374791433\n",
      " 3276.4095888983943 3454.111161677964 3231.9067685840605\n",
      " 3261.0966556917388 3288.162898481172]\n"
     ]
    }
   ],
   "source": [
    "y_dm = np.array(row[5:53])\n",
    "y_dm[0] = y_dm[0]/SI.loc['Average']['January']\n",
    "y_dm[1] = y_dm[1]/SI.loc['Average']['February']\n",
    "y_dm[2] = y_dm[2]/SI.loc['Average']['March']\n",
    "y_dm[3] = y_dm[3]/SI.loc['Average']['April']\n",
    "y_dm[4] = y_dm[4]/SI.loc['Average']['May']\n",
    "y_dm[5] = y_dm[5]/SI.loc['Average']['June']\n",
    "y_dm[6] = y_dm[6]/SI.loc['Average']['July']\n",
    "y_dm[7] = y_dm[7]/SI.loc['Average']['August']\n",
    "y_dm[8] = y_dm[8]/SI.loc['Average']['September']\n",
    "y_dm[9] = y_dm[9]/SI.loc['Average']['October']\n",
    "y_dm[10] = y_dm[10]/SI.loc['Average']['November']\n",
    "y_dm[11] = y_dm[11]/SI.loc['Average']['December']\n",
    "y_dm[12] = y_dm[12]/SI.loc['Average']['January']\n",
    "y_dm[13] = y_dm[13]/SI.loc['Average']['February']\n",
    "y_dm[14] = y_dm[14]/SI.loc['Average']['March']\n",
    "y_dm[15] = y_dm[15]/SI.loc['Average']['April']\n",
    "y_dm[16] = y_dm[16]/SI.loc['Average']['May']\n",
    "y_dm[17] = y_dm[17]/SI.loc['Average']['June']\n",
    "y_dm[18] = y_dm[18]/SI.loc['Average']['July']\n",
    "y_dm[19] = y_dm[19]/SI.loc['Average']['August']\n",
    "y_dm[20] = y_dm[20]/SI.loc['Average']['September']\n",
    "y_dm[21] = y_dm[21]/SI.loc['Average']['October']\n",
    "y_dm[22] = y_dm[22]/SI.loc['Average']['November']\n",
    "y_dm[23] = y_dm[23]/SI.loc['Average']['December']\n",
    "y_dm[24] = y_dm[24]/SI.loc['Average']['January']\n",
    "y_dm[25] = y_dm[25]/SI.loc['Average']['February']\n",
    "y_dm[26] = y_dm[26]/SI.loc['Average']['March']\n",
    "y_dm[27] = y_dm[27]/SI.loc['Average']['April']\n",
    "y_dm[28] = y_dm[28]/SI.loc['Average']['May']\n",
    "y_dm[29] = y_dm[29]/SI.loc['Average']['June']\n",
    "y_dm[30] = y_dm[30]/SI.loc['Average']['July']\n",
    "y_dm[31] = y_dm[31]/SI.loc['Average']['August']\n",
    "y_dm[32] = y_dm[32]/SI.loc['Average']['September']\n",
    "y_dm[33] = y_dm[33]/SI.loc['Average']['October']\n",
    "y_dm[34] = y_dm[34]/SI.loc['Average']['November']\n",
    "y_dm[35] = y_dm[35]/SI.loc['Average']['December']\n",
    "y_dm[36] = y_dm[36]/SI.loc['Average']['January']\n",
    "y_dm[37] = y_dm[37]/SI.loc['Average']['February']\n",
    "y_dm[38] = y_dm[38]/SI.loc['Average']['March']\n",
    "y_dm[39] = y_dm[39]/SI.loc['Average']['April']\n",
    "y_dm[40] = y_dm[40]/SI.loc['Average']['May']\n",
    "y_dm[41] = y_dm[41]/SI.loc['Average']['June']\n",
    "y_dm[42] = y_dm[42]/SI.loc['Average']['July']\n",
    "y_dm[43] = y_dm[43]/SI.loc['Average']['August']\n",
    "y_dm[44] = y_dm[44]/SI.loc['Average']['September']\n",
    "y_dm[45] = y_dm[45]/SI.loc['Average']['October']\n",
    "y_dm[46] = y_dm[46]/SI.loc['Average']['November']\n",
    "y_dm[47] = y_dm[47]/SI.loc['Average']['December']\n",
    "print(\"y = \",y_dm)"
   ]
  },
  {
   "cell_type": "markdown",
   "metadata": {},
   "source": [
    "Perform simple linear regression to extract trend."
   ]
  },
  {
   "cell_type": "code",
   "execution_count": 53,
   "metadata": {},
   "outputs": [
    {
     "name": "stdout",
     "output_type": "stream",
     "text": [
      "Coefficient of determination: 0.07637214616587173\n",
      "Intercept: 2828.148584795483\n",
      "Slope: 5.155456527586976\n"
     ]
    }
   ],
   "source": [
    "model_dm = LinearRegression()\n",
    "x = np.arange(1, 49).reshape((-1, 1))\n",
    "model_dm.fit(x,y_dm)\n",
    "r_sq_dm = model_dm.score(x, y_dm)\n",
    "print('Coefficient of determination:', r_sq_dm)\n",
    "intercept_dm = model_dm.intercept_\n",
    "print('Intercept:', intercept_dm)\n",
    "slope_dm = model_dm.coef_[0]\n",
    "print('Slope:', slope_dm)"
   ]
  },
  {
   "cell_type": "markdown",
   "metadata": {},
   "source": [
    "Extend the trend to year 5. "
   ]
  },
  {
   "cell_type": "code",
   "execution_count": 54,
   "metadata": {},
   "outputs": [
    {
     "data": {
      "text/plain": [
       "[3080.765954647245,\n",
       " 3085.921411174832,\n",
       " 3091.076867702419,\n",
       " 3096.232324230006,\n",
       " 3101.3877807575927,\n",
       " 3106.54323728518,\n",
       " 3111.698693812767,\n",
       " 3116.854150340354,\n",
       " 3122.009606867941,\n",
       " 3127.165063395528,\n",
       " 3132.3205199231147,\n",
       " 3137.4759764507016]"
      ]
     },
     "execution_count": 54,
     "metadata": {},
     "output_type": "execute_result"
    }
   ],
   "source": [
    "#The forecast calculation is explicitly stated here but you can use sklearn's Predict function, as well (https://scikit-learn.org/stable/modules/generated/sklearn.linear_model.LinearRegression.html).\n",
    "forecast_dm = []\n",
    "for t in range(49,61):\n",
    "    forecast_dm.append(intercept_dm + t*slope_dm)\n",
    "forecast_dm"
   ]
  },
  {
   "cell_type": "markdown",
   "metadata": {},
   "source": [
    "Seasonalize year 5 forecasts."
   ]
  },
  {
   "cell_type": "code",
   "execution_count": 55,
   "metadata": {},
   "outputs": [
    {
     "data": {
      "text/plain": [
       "[2623.175927340612,\n",
       " 2645.360742596319,\n",
       " 3390.56519149804,\n",
       " 3451.7492375543384,\n",
       " 3764.956654120859,\n",
       " 3757.554972616568,\n",
       " 3883.2610803018424,\n",
       " 3459.884436670598,\n",
       " 2880.5803146921935,\n",
       " 3005.3387620342423,\n",
       " 2498.290155889862,\n",
       " 1935.0626707639851]"
      ]
     },
     "execution_count": 55,
     "metadata": {},
     "output_type": "execute_result"
    }
   ],
   "source": [
    "forecast_dm[0] = forecast_dm[0]*SI.loc['Average']['January']\n",
    "forecast_dm[1] = forecast_dm[1]*SI.loc['Average']['February']\n",
    "forecast_dm[2] = forecast_dm[2]*SI.loc['Average']['March']\n",
    "forecast_dm[3] = forecast_dm[3]*SI.loc['Average']['April']\n",
    "forecast_dm[4] = forecast_dm[4]*SI.loc['Average']['May']\n",
    "forecast_dm[5] = forecast_dm[5]*SI.loc['Average']['June']\n",
    "forecast_dm[6] = forecast_dm[6]*SI.loc['Average']['July']\n",
    "forecast_dm[7] = forecast_dm[7]*SI.loc['Average']['August']\n",
    "forecast_dm[8] = forecast_dm[8]*SI.loc['Average']['September']\n",
    "forecast_dm[9] = forecast_dm[9]*SI.loc['Average']['October']\n",
    "forecast_dm[10] = forecast_dm[10]*SI.loc['Average']['November']\n",
    "forecast_dm[11] = forecast_dm[11]*SI.loc['Average']['December']\n",
    "forecast_dm"
   ]
  },
  {
   "cell_type": "markdown",
   "metadata": {},
   "source": [
    "# Forecast Using Multiple Linear Regression"
   ]
  },
  {
   "cell_type": "markdown",
   "metadata": {},
   "source": [
    "Populate independent variables"
   ]
  },
  {
   "cell_type": "code",
   "execution_count": 85,
   "metadata": {},
   "outputs": [
    {
     "data": {
      "text/plain": [
       "[array([1, 0, 0, 0, 0, 0, 0, 0, 0, 0, 0, 0]),\n",
       " array([2, 1, 0, 0, 0, 0, 0, 0, 0, 0, 0, 0]),\n",
       " array([3, 0, 1, 0, 0, 0, 0, 0, 0, 0, 0, 0]),\n",
       " array([4, 0, 0, 1, 0, 0, 0, 0, 0, 0, 0, 0]),\n",
       " array([5, 0, 0, 0, 1, 0, 0, 0, 0, 0, 0, 0]),\n",
       " array([6, 0, 0, 0, 0, 1, 0, 0, 0, 0, 0, 0]),\n",
       " array([7, 0, 0, 0, 0, 0, 1, 0, 0, 0, 0, 0]),\n",
       " array([8, 0, 0, 0, 0, 0, 0, 1, 0, 0, 0, 0]),\n",
       " array([9, 0, 0, 0, 0, 0, 0, 0, 1, 0, 0, 0]),\n",
       " array([10,  0,  0,  0,  0,  0,  0,  0,  0,  1,  0,  0]),\n",
       " array([11,  0,  0,  0,  0,  0,  0,  0,  0,  0,  1,  0]),\n",
       " array([12,  0,  0,  0,  0,  0,  0,  0,  0,  0,  0,  1]),\n",
       " array([13,  0,  0,  0,  0,  0,  0,  0,  0,  0,  0,  0]),\n",
       " array([14,  1,  0,  0,  0,  0,  0,  0,  0,  0,  0,  0]),\n",
       " array([15,  0,  1,  0,  0,  0,  0,  0,  0,  0,  0,  0]),\n",
       " array([16,  0,  0,  1,  0,  0,  0,  0,  0,  0,  0,  0]),\n",
       " array([17,  0,  0,  0,  1,  0,  0,  0,  0,  0,  0,  0]),\n",
       " array([18,  0,  0,  0,  0,  1,  0,  0,  0,  0,  0,  0]),\n",
       " array([19,  0,  0,  0,  0,  0,  1,  0,  0,  0,  0,  0]),\n",
       " array([20,  0,  0,  0,  0,  0,  0,  1,  0,  0,  0,  0]),\n",
       " array([21,  0,  0,  0,  0,  0,  0,  0,  1,  0,  0,  0]),\n",
       " array([22,  0,  0,  0,  0,  0,  0,  0,  0,  1,  0,  0]),\n",
       " array([23,  0,  0,  0,  0,  0,  0,  0,  0,  0,  1,  0]),\n",
       " array([24,  0,  0,  0,  0,  0,  0,  0,  0,  0,  0,  1]),\n",
       " array([25,  0,  0,  0,  0,  0,  0,  0,  0,  0,  0,  0]),\n",
       " array([26,  1,  0,  0,  0,  0,  0,  0,  0,  0,  0,  0]),\n",
       " array([27,  0,  1,  0,  0,  0,  0,  0,  0,  0,  0,  0]),\n",
       " array([28,  0,  0,  1,  0,  0,  0,  0,  0,  0,  0,  0]),\n",
       " array([29,  0,  0,  0,  1,  0,  0,  0,  0,  0,  0,  0]),\n",
       " array([30,  0,  0,  0,  0,  1,  0,  0,  0,  0,  0,  0]),\n",
       " array([31,  0,  0,  0,  0,  0,  1,  0,  0,  0,  0,  0]),\n",
       " array([32,  0,  0,  0,  0,  0,  0,  1,  0,  0,  0,  0]),\n",
       " array([33,  0,  0,  0,  0,  0,  0,  0,  1,  0,  0,  0]),\n",
       " array([34,  0,  0,  0,  0,  0,  0,  0,  0,  1,  0,  0]),\n",
       " array([35,  0,  0,  0,  0,  0,  0,  0,  0,  0,  1,  0]),\n",
       " array([36,  0,  0,  0,  0,  0,  0,  0,  0,  0,  0,  1]),\n",
       " array([37,  0,  0,  0,  0,  0,  0,  0,  0,  0,  0,  0]),\n",
       " array([38,  1,  0,  0,  0,  0,  0,  0,  0,  0,  0,  0]),\n",
       " array([39,  0,  1,  0,  0,  0,  0,  0,  0,  0,  0,  0]),\n",
       " array([40,  0,  0,  1,  0,  0,  0,  0,  0,  0,  0,  0]),\n",
       " array([41,  0,  0,  0,  1,  0,  0,  0,  0,  0,  0,  0]),\n",
       " array([42,  0,  0,  0,  0,  1,  0,  0,  0,  0,  0,  0]),\n",
       " array([43,  0,  0,  0,  0,  0,  1,  0,  0,  0,  0,  0]),\n",
       " array([44,  0,  0,  0,  0,  0,  0,  1,  0,  0,  0,  0]),\n",
       " array([45,  0,  0,  0,  0,  0,  0,  0,  1,  0,  0,  0]),\n",
       " array([46,  0,  0,  0,  0,  0,  0,  0,  0,  1,  0,  0]),\n",
       " array([47,  0,  0,  0,  0,  0,  0,  0,  0,  0,  1,  0]),\n",
       " array([48,  0,  0,  0,  0,  0,  0,  0,  0,  0,  0,  1])]"
      ]
     },
     "execution_count": 85,
     "metadata": {},
     "output_type": "execute_result"
    }
   ],
   "source": [
    "x = np.arange(1, 49).reshape((-1, 1))#Must change this to add the dummy binary variables.\n",
    "x2 = [np.append(v, np.zeros(11, dtype=np.int8)) for v in x]\n",
    "for i, x in enumerate(x2):\n",
    "    if(i%12 == 0): \n",
    "        continue\n",
    "    x[(i%12)] = 1\n",
    "x2\n",
    "\n"
   ]
  },
  {
   "cell_type": "markdown",
   "metadata": {},
   "source": [
    "Run multiple linear regression."
   ]
  },
  {
   "cell_type": "code",
   "execution_count": 87,
   "metadata": {},
   "outputs": [
    {
     "data": {
      "text/html": [
       "<style>#sk-container-id-2 {color: black;background-color: white;}#sk-container-id-2 pre{padding: 0;}#sk-container-id-2 div.sk-toggleable {background-color: white;}#sk-container-id-2 label.sk-toggleable__label {cursor: pointer;display: block;width: 100%;margin-bottom: 0;padding: 0.3em;box-sizing: border-box;text-align: center;}#sk-container-id-2 label.sk-toggleable__label-arrow:before {content: \"▸\";float: left;margin-right: 0.25em;color: #696969;}#sk-container-id-2 label.sk-toggleable__label-arrow:hover:before {color: black;}#sk-container-id-2 div.sk-estimator:hover label.sk-toggleable__label-arrow:before {color: black;}#sk-container-id-2 div.sk-toggleable__content {max-height: 0;max-width: 0;overflow: hidden;text-align: left;background-color: #f0f8ff;}#sk-container-id-2 div.sk-toggleable__content pre {margin: 0.2em;color: black;border-radius: 0.25em;background-color: #f0f8ff;}#sk-container-id-2 input.sk-toggleable__control:checked~div.sk-toggleable__content {max-height: 200px;max-width: 100%;overflow: auto;}#sk-container-id-2 input.sk-toggleable__control:checked~label.sk-toggleable__label-arrow:before {content: \"▾\";}#sk-container-id-2 div.sk-estimator input.sk-toggleable__control:checked~label.sk-toggleable__label {background-color: #d4ebff;}#sk-container-id-2 div.sk-label input.sk-toggleable__control:checked~label.sk-toggleable__label {background-color: #d4ebff;}#sk-container-id-2 input.sk-hidden--visually {border: 0;clip: rect(1px 1px 1px 1px);clip: rect(1px, 1px, 1px, 1px);height: 1px;margin: -1px;overflow: hidden;padding: 0;position: absolute;width: 1px;}#sk-container-id-2 div.sk-estimator {font-family: monospace;background-color: #f0f8ff;border: 1px dotted black;border-radius: 0.25em;box-sizing: border-box;margin-bottom: 0.5em;}#sk-container-id-2 div.sk-estimator:hover {background-color: #d4ebff;}#sk-container-id-2 div.sk-parallel-item::after {content: \"\";width: 100%;border-bottom: 1px solid gray;flex-grow: 1;}#sk-container-id-2 div.sk-label:hover label.sk-toggleable__label {background-color: #d4ebff;}#sk-container-id-2 div.sk-serial::before {content: \"\";position: absolute;border-left: 1px solid gray;box-sizing: border-box;top: 0;bottom: 0;left: 50%;z-index: 0;}#sk-container-id-2 div.sk-serial {display: flex;flex-direction: column;align-items: center;background-color: white;padding-right: 0.2em;padding-left: 0.2em;position: relative;}#sk-container-id-2 div.sk-item {position: relative;z-index: 1;}#sk-container-id-2 div.sk-parallel {display: flex;align-items: stretch;justify-content: center;background-color: white;position: relative;}#sk-container-id-2 div.sk-item::before, #sk-container-id-2 div.sk-parallel-item::before {content: \"\";position: absolute;border-left: 1px solid gray;box-sizing: border-box;top: 0;bottom: 0;left: 50%;z-index: -1;}#sk-container-id-2 div.sk-parallel-item {display: flex;flex-direction: column;z-index: 1;position: relative;background-color: white;}#sk-container-id-2 div.sk-parallel-item:first-child::after {align-self: flex-end;width: 50%;}#sk-container-id-2 div.sk-parallel-item:last-child::after {align-self: flex-start;width: 50%;}#sk-container-id-2 div.sk-parallel-item:only-child::after {width: 0;}#sk-container-id-2 div.sk-dashed-wrapped {border: 1px dashed gray;margin: 0 0.4em 0.5em 0.4em;box-sizing: border-box;padding-bottom: 0.4em;background-color: white;}#sk-container-id-2 div.sk-label label {font-family: monospace;font-weight: bold;display: inline-block;line-height: 1.2em;}#sk-container-id-2 div.sk-label-container {text-align: center;}#sk-container-id-2 div.sk-container {/* jupyter's `normalize.less` sets `[hidden] { display: none; }` but bootstrap.min.css set `[hidden] { display: none !important; }` so we also need the `!important` here to be able to override the default hidden behavior on the sphinx rendered scikit-learn.org. See: https://github.com/scikit-learn/scikit-learn/issues/21755 */display: inline-block !important;position: relative;}#sk-container-id-2 div.sk-text-repr-fallback {display: none;}</style><div id=\"sk-container-id-2\" class=\"sk-top-container\"><div class=\"sk-text-repr-fallback\"><pre>LinearRegression()</pre><b>In a Jupyter environment, please rerun this cell to show the HTML representation or trust the notebook. <br />On GitHub, the HTML representation is unable to render, please try loading this page with nbviewer.org.</b></div><div class=\"sk-container\" hidden><div class=\"sk-item\"><div class=\"sk-estimator sk-toggleable\"><input class=\"sk-toggleable__control sk-hidden--visually\" id=\"sk-estimator-id-2\" type=\"checkbox\" checked><label for=\"sk-estimator-id-2\" class=\"sk-toggleable__label sk-toggleable__label-arrow\">LinearRegression</label><div class=\"sk-toggleable__content\"><pre>LinearRegression()</pre></div></div></div></div></div>"
      ],
      "text/plain": [
       "LinearRegression()"
      ]
     },
     "execution_count": 87,
     "metadata": {},
     "output_type": "execute_result"
    }
   ],
   "source": [
    "model_mlr = LinearRegression()\n",
    "model_mlr.fit(x2,y_dm) #Must change this. Basically, you need to extend the simple linear regression model to take multiple independent variables. You are referred to https://scikit-learn.org/stable/modules/generated/sklearn.linear_model.LinearRegression.html for the documentation of the package we use for this purpose. Make sure you use the correct y values, too."
   ]
  },
  {
   "cell_type": "markdown",
   "metadata": {},
   "source": [
    "Calculate the forecasts."
   ]
  },
  {
   "cell_type": "code",
   "execution_count": 91,
   "metadata": {},
   "outputs": [
    {
     "data": {
      "text/plain": [
       "array([3118.05588197, 3099.05150399, 3110.5254578 , 3120.7383103 ,\n",
       "       3116.01640514, 3119.31154931, 3123.11023546, 3119.47421302,\n",
       "       3122.48974951, 3119.03270662, 3120.23520984, 3119.86374921])"
      ]
     },
     "execution_count": 91,
     "metadata": {},
     "output_type": "execute_result"
    }
   ],
   "source": [
    "ex = np.arange(49, 61).reshape((-1, 1))#Must change this to add the dummy binary variables.\n",
    "newx = [np.append(v, np.zeros(11, dtype=np.int8)) for v in ex]\n",
    "for i, x in enumerate(newx):\n",
    "    if(i%12 == 0): \n",
    "        continue\n",
    "    x[(i%12)] = 1\n",
    "forecast_mlr = model_mlr.predict(newx)\n",
    "#Must add this. Decide first whether you want to calculate the forecasts explicitly or via sklearn's Predict function (https://scikit-learn.org/stable/modules/generated/sklearn.linear_model.LinearRegression.html) and then execute.\n",
    "forecast_mlr"
   ]
  },
  {
   "cell_type": "markdown",
   "metadata": {},
   "source": [
    "# Calculate Forecast Accuracy"
   ]
  },
  {
   "cell_type": "code",
   "execution_count": 92,
   "metadata": {},
   "outputs": [
    {
     "data": {
      "text/plain": [
       "[2096.0, 2201.0, 2952.0, 3204.0, 3472.0, 3908.0, 3573.0, 3147]"
      ]
     },
     "execution_count": 92,
     "metadata": {},
     "output_type": "execute_result"
    }
   ],
   "source": [
    "actual_Year5 = []\n",
    "for t in range(53,61):\n",
    "    actual_Year5.append(row[t])\n",
    "actual_Year5"
   ]
  },
  {
   "cell_type": "code",
   "execution_count": 93,
   "metadata": {},
   "outputs": [
    {
     "name": "stdout",
     "output_type": "stream",
     "text": [
      "MAD_DM: 340.5497871832551\n",
      "MAD_MLR: 472.99776631558814\n"
     ]
    }
   ],
   "source": [
    "deviation_dm = []\n",
    "deviation_mlr = []\n",
    "for t in range(8):\n",
    "    deviation_dm.append(forecast_dm[t] - actual_Year5[t]) \n",
    "    deviation_mlr.append(forecast_mlr[t] - actual_Year5[t]) \n",
    "MAD_dm = pf.CalculateMeanAbsoluteDeviation(deviation_dm)\n",
    "MAD_mlr = pf.CalculateMeanAbsoluteDeviation(deviation_mlr)\n",
    "print(\"MAD_DM:\",MAD_dm)\n",
    "print(\"MAD_MLR:\",MAD_mlr)"
   ]
  }
 ],
 "metadata": {
  "kernelspec": {
   "display_name": "Python 3.9.6 64-bit",
   "language": "python",
   "name": "python3"
  },
  "language_info": {
   "codemirror_mode": {
    "name": "ipython",
    "version": 3
   },
   "file_extension": ".py",
   "mimetype": "text/x-python",
   "name": "python",
   "nbconvert_exporter": "python",
   "pygments_lexer": "ipython3",
   "version": "3.9.6"
  },
  "vscode": {
   "interpreter": {
    "hash": "31f2aee4e71d21fbe5cf8b01ff0e069b9275f58929596ceb00d14d90e3e16cd6"
   }
  }
 },
 "nbformat": 4,
 "nbformat_minor": 4
}

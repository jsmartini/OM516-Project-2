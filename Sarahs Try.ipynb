{
 "cells": [
  {
   "cell_type": "code",
   "execution_count": 232,
   "metadata": {},
   "outputs": [],
   "source": [
    "import pandas as pd\n",
    "import numpy as np\n",
    "from sklearn.linear_model import LinearRegression\n",
    "from sklearn.preprocessing import StandardScaler\n",
    "import math\n",
    "import matplotlib.pyplot as plt\n",
    "import matplotlib as mpl\n",
    "import PublicFunctions as pf"
   ]
  },
  {
   "cell_type": "markdown",
   "metadata": {},
   "source": [
    "# Read"
   ]
  },
  {
   "cell_type": "markdown",
   "metadata": {},
   "source": [
    "The data was downloaded from Zillow Research (https://www.zillow.com/research/data/ --> Inventory --> New Listings (Raw, All Homes, Montly View)) as the .csv file given here. Column headers represent the last day of the month, which we simply refer to as the month, i.e., column '2018-1-31' is 'January 2018.'"
   ]
  },
  {
   "cell_type": "code",
   "execution_count": 233,
   "metadata": {
    "scrolled": true
   },
   "outputs": [
    {
     "data": {
      "text/html": [
       "<div>\n",
       "<style scoped>\n",
       "    .dataframe tbody tr th:only-of-type {\n",
       "        vertical-align: middle;\n",
       "    }\n",
       "\n",
       "    .dataframe tbody tr th {\n",
       "        vertical-align: top;\n",
       "    }\n",
       "\n",
       "    .dataframe thead th {\n",
       "        text-align: right;\n",
       "    }\n",
       "</style>\n",
       "<table border=\"1\" class=\"dataframe\">\n",
       "  <thead>\n",
       "    <tr style=\"text-align: right;\">\n",
       "      <th></th>\n",
       "      <th>RegionID</th>\n",
       "      <th>SizeRank</th>\n",
       "      <th>RegionName</th>\n",
       "      <th>RegionType</th>\n",
       "      <th>StateName</th>\n",
       "      <th>1/31/2018</th>\n",
       "      <th>2/28/2018</th>\n",
       "      <th>3/31/2018</th>\n",
       "      <th>4/30/2018</th>\n",
       "      <th>5/31/2018</th>\n",
       "      <th>...</th>\n",
       "      <th>11/30/2021</th>\n",
       "      <th>12/31/2021</th>\n",
       "      <th>1/31/2022</th>\n",
       "      <th>2/28/2022</th>\n",
       "      <th>3/31/2022</th>\n",
       "      <th>4/30/2022</th>\n",
       "      <th>5/31/2022</th>\n",
       "      <th>6/30/2022</th>\n",
       "      <th>7/31/2022</th>\n",
       "      <th>8/31/2022</th>\n",
       "    </tr>\n",
       "  </thead>\n",
       "  <tbody>\n",
       "    <tr>\n",
       "      <th>0</th>\n",
       "      <td>102001</td>\n",
       "      <td>0</td>\n",
       "      <td>United States</td>\n",
       "      <td>country</td>\n",
       "      <td>NaN</td>\n",
       "      <td>327792.0</td>\n",
       "      <td>381284.0</td>\n",
       "      <td>490780.0</td>\n",
       "      <td>529164.0</td>\n",
       "      <td>554878.0</td>\n",
       "      <td>...</td>\n",
       "      <td>315174.0</td>\n",
       "      <td>215175.0</td>\n",
       "      <td>253159.0</td>\n",
       "      <td>284434.0</td>\n",
       "      <td>385837.0</td>\n",
       "      <td>417512.0</td>\n",
       "      <td>440501.0</td>\n",
       "      <td>474768.0</td>\n",
       "      <td>409400.0</td>\n",
       "      <td>361392</td>\n",
       "    </tr>\n",
       "    <tr>\n",
       "      <th>1</th>\n",
       "      <td>394913</td>\n",
       "      <td>1</td>\n",
       "      <td>New York, NY</td>\n",
       "      <td>msa</td>\n",
       "      <td>NY</td>\n",
       "      <td>14997.0</td>\n",
       "      <td>22401.0</td>\n",
       "      <td>23484.0</td>\n",
       "      <td>26845.0</td>\n",
       "      <td>26302.0</td>\n",
       "      <td>...</td>\n",
       "      <td>12043.0</td>\n",
       "      <td>6911.0</td>\n",
       "      <td>9214.0</td>\n",
       "      <td>11516.0</td>\n",
       "      <td>16027.0</td>\n",
       "      <td>16427.0</td>\n",
       "      <td>17057.0</td>\n",
       "      <td>17237.0</td>\n",
       "      <td>14057.0</td>\n",
       "      <td>11642</td>\n",
       "    </tr>\n",
       "    <tr>\n",
       "      <th>2</th>\n",
       "      <td>753899</td>\n",
       "      <td>2</td>\n",
       "      <td>Los Angeles, CA</td>\n",
       "      <td>msa</td>\n",
       "      <td>CA</td>\n",
       "      <td>8274.0</td>\n",
       "      <td>9505.0</td>\n",
       "      <td>10523.0</td>\n",
       "      <td>11052.0</td>\n",
       "      <td>11871.0</td>\n",
       "      <td>...</td>\n",
       "      <td>6591.0</td>\n",
       "      <td>4466.0</td>\n",
       "      <td>6533.0</td>\n",
       "      <td>7619.0</td>\n",
       "      <td>9115.0</td>\n",
       "      <td>9312.0</td>\n",
       "      <td>9413.0</td>\n",
       "      <td>9847.0</td>\n",
       "      <td>8691.0</td>\n",
       "      <td>7464</td>\n",
       "    </tr>\n",
       "    <tr>\n",
       "      <th>3</th>\n",
       "      <td>394463</td>\n",
       "      <td>3</td>\n",
       "      <td>Chicago, IL</td>\n",
       "      <td>msa</td>\n",
       "      <td>IL</td>\n",
       "      <td>8795.0</td>\n",
       "      <td>11937.0</td>\n",
       "      <td>17632.0</td>\n",
       "      <td>17154.0</td>\n",
       "      <td>17315.0</td>\n",
       "      <td>...</td>\n",
       "      <td>8726.0</td>\n",
       "      <td>5380.0</td>\n",
       "      <td>7253.0</td>\n",
       "      <td>8960.0</td>\n",
       "      <td>12644.0</td>\n",
       "      <td>13390.0</td>\n",
       "      <td>13876.0</td>\n",
       "      <td>14605.0</td>\n",
       "      <td>12056.0</td>\n",
       "      <td>10313</td>\n",
       "    </tr>\n",
       "    <tr>\n",
       "      <th>4</th>\n",
       "      <td>394514</td>\n",
       "      <td>4</td>\n",
       "      <td>Dallas, TX</td>\n",
       "      <td>msa</td>\n",
       "      <td>TX</td>\n",
       "      <td>7848.0</td>\n",
       "      <td>8186.0</td>\n",
       "      <td>11131.0</td>\n",
       "      <td>12357.0</td>\n",
       "      <td>12362.0</td>\n",
       "      <td>...</td>\n",
       "      <td>7995.0</td>\n",
       "      <td>5751.0</td>\n",
       "      <td>6202.0</td>\n",
       "      <td>6155.0</td>\n",
       "      <td>8376.0</td>\n",
       "      <td>9647.0</td>\n",
       "      <td>10372.0</td>\n",
       "      <td>12367.0</td>\n",
       "      <td>10742.0</td>\n",
       "      <td>8544</td>\n",
       "    </tr>\n",
       "    <tr>\n",
       "      <th>...</th>\n",
       "      <td>...</td>\n",
       "      <td>...</td>\n",
       "      <td>...</td>\n",
       "      <td>...</td>\n",
       "      <td>...</td>\n",
       "      <td>...</td>\n",
       "      <td>...</td>\n",
       "      <td>...</td>\n",
       "      <td>...</td>\n",
       "      <td>...</td>\n",
       "      <td>...</td>\n",
       "      <td>...</td>\n",
       "      <td>...</td>\n",
       "      <td>...</td>\n",
       "      <td>...</td>\n",
       "      <td>...</td>\n",
       "      <td>...</td>\n",
       "      <td>...</td>\n",
       "      <td>...</td>\n",
       "      <td>...</td>\n",
       "      <td>...</td>\n",
       "    </tr>\n",
       "    <tr>\n",
       "      <th>884</th>\n",
       "      <td>753929</td>\n",
       "      <td>923</td>\n",
       "      <td>Zapata, TX</td>\n",
       "      <td>msa</td>\n",
       "      <td>TX</td>\n",
       "      <td>NaN</td>\n",
       "      <td>NaN</td>\n",
       "      <td>NaN</td>\n",
       "      <td>NaN</td>\n",
       "      <td>NaN</td>\n",
       "      <td>...</td>\n",
       "      <td>NaN</td>\n",
       "      <td>NaN</td>\n",
       "      <td>NaN</td>\n",
       "      <td>NaN</td>\n",
       "      <td>NaN</td>\n",
       "      <td>NaN</td>\n",
       "      <td>NaN</td>\n",
       "      <td>6.0</td>\n",
       "      <td>NaN</td>\n",
       "      <td>6</td>\n",
       "    </tr>\n",
       "    <tr>\n",
       "      <th>885</th>\n",
       "      <td>394743</td>\n",
       "      <td>924</td>\n",
       "      <td>Ketchikan, AK</td>\n",
       "      <td>msa</td>\n",
       "      <td>AK</td>\n",
       "      <td>NaN</td>\n",
       "      <td>NaN</td>\n",
       "      <td>NaN</td>\n",
       "      <td>NaN</td>\n",
       "      <td>NaN</td>\n",
       "      <td>...</td>\n",
       "      <td>NaN</td>\n",
       "      <td>NaN</td>\n",
       "      <td>NaN</td>\n",
       "      <td>9.0</td>\n",
       "      <td>12.0</td>\n",
       "      <td>15.0</td>\n",
       "      <td>7.0</td>\n",
       "      <td>9.0</td>\n",
       "      <td>13.0</td>\n",
       "      <td>7</td>\n",
       "    </tr>\n",
       "    <tr>\n",
       "      <th>886</th>\n",
       "      <td>753874</td>\n",
       "      <td>925</td>\n",
       "      <td>Craig, CO</td>\n",
       "      <td>msa</td>\n",
       "      <td>CO</td>\n",
       "      <td>19.0</td>\n",
       "      <td>25.0</td>\n",
       "      <td>24.0</td>\n",
       "      <td>34.0</td>\n",
       "      <td>51.0</td>\n",
       "      <td>...</td>\n",
       "      <td>14.0</td>\n",
       "      <td>10.0</td>\n",
       "      <td>14.0</td>\n",
       "      <td>9.0</td>\n",
       "      <td>20.0</td>\n",
       "      <td>30.0</td>\n",
       "      <td>33.0</td>\n",
       "      <td>22.0</td>\n",
       "      <td>20.0</td>\n",
       "      <td>28</td>\n",
       "    </tr>\n",
       "    <tr>\n",
       "      <th>887</th>\n",
       "      <td>394767</td>\n",
       "      <td>926</td>\n",
       "      <td>Lamesa, TX</td>\n",
       "      <td>msa</td>\n",
       "      <td>TX</td>\n",
       "      <td>NaN</td>\n",
       "      <td>NaN</td>\n",
       "      <td>NaN</td>\n",
       "      <td>NaN</td>\n",
       "      <td>NaN</td>\n",
       "      <td>...</td>\n",
       "      <td>NaN</td>\n",
       "      <td>NaN</td>\n",
       "      <td>NaN</td>\n",
       "      <td>NaN</td>\n",
       "      <td>13.0</td>\n",
       "      <td>6.0</td>\n",
       "      <td>8.0</td>\n",
       "      <td>11.0</td>\n",
       "      <td>10.0</td>\n",
       "      <td>18</td>\n",
       "    </tr>\n",
       "    <tr>\n",
       "      <th>888</th>\n",
       "      <td>395188</td>\n",
       "      <td>927</td>\n",
       "      <td>Vernon, TX</td>\n",
       "      <td>msa</td>\n",
       "      <td>TX</td>\n",
       "      <td>NaN</td>\n",
       "      <td>NaN</td>\n",
       "      <td>NaN</td>\n",
       "      <td>NaN</td>\n",
       "      <td>NaN</td>\n",
       "      <td>...</td>\n",
       "      <td>NaN</td>\n",
       "      <td>NaN</td>\n",
       "      <td>NaN</td>\n",
       "      <td>NaN</td>\n",
       "      <td>5.0</td>\n",
       "      <td>6.0</td>\n",
       "      <td>8.0</td>\n",
       "      <td>7.0</td>\n",
       "      <td>6.0</td>\n",
       "      <td>12</td>\n",
       "    </tr>\n",
       "  </tbody>\n",
       "</table>\n",
       "<p>889 rows × 61 columns</p>\n",
       "</div>"
      ],
      "text/plain": [
       "     RegionID  SizeRank       RegionName RegionType StateName  1/31/2018  \\\n",
       "0      102001         0    United States    country       NaN   327792.0   \n",
       "1      394913         1     New York, NY        msa        NY    14997.0   \n",
       "2      753899         2  Los Angeles, CA        msa        CA     8274.0   \n",
       "3      394463         3      Chicago, IL        msa        IL     8795.0   \n",
       "4      394514         4       Dallas, TX        msa        TX     7848.0   \n",
       "..        ...       ...              ...        ...       ...        ...   \n",
       "884    753929       923       Zapata, TX        msa        TX        NaN   \n",
       "885    394743       924    Ketchikan, AK        msa        AK        NaN   \n",
       "886    753874       925        Craig, CO        msa        CO       19.0   \n",
       "887    394767       926       Lamesa, TX        msa        TX        NaN   \n",
       "888    395188       927       Vernon, TX        msa        TX        NaN   \n",
       "\n",
       "     2/28/2018  3/31/2018  4/30/2018  5/31/2018  ...  11/30/2021  12/31/2021  \\\n",
       "0     381284.0   490780.0   529164.0   554878.0  ...    315174.0    215175.0   \n",
       "1      22401.0    23484.0    26845.0    26302.0  ...     12043.0      6911.0   \n",
       "2       9505.0    10523.0    11052.0    11871.0  ...      6591.0      4466.0   \n",
       "3      11937.0    17632.0    17154.0    17315.0  ...      8726.0      5380.0   \n",
       "4       8186.0    11131.0    12357.0    12362.0  ...      7995.0      5751.0   \n",
       "..         ...        ...        ...        ...  ...         ...         ...   \n",
       "884        NaN        NaN        NaN        NaN  ...         NaN         NaN   \n",
       "885        NaN        NaN        NaN        NaN  ...         NaN         NaN   \n",
       "886       25.0       24.0       34.0       51.0  ...        14.0        10.0   \n",
       "887        NaN        NaN        NaN        NaN  ...         NaN         NaN   \n",
       "888        NaN        NaN        NaN        NaN  ...         NaN         NaN   \n",
       "\n",
       "     1/31/2022  2/28/2022  3/31/2022  4/30/2022  5/31/2022  6/30/2022  \\\n",
       "0     253159.0   284434.0   385837.0   417512.0   440501.0   474768.0   \n",
       "1       9214.0    11516.0    16027.0    16427.0    17057.0    17237.0   \n",
       "2       6533.0     7619.0     9115.0     9312.0     9413.0     9847.0   \n",
       "3       7253.0     8960.0    12644.0    13390.0    13876.0    14605.0   \n",
       "4       6202.0     6155.0     8376.0     9647.0    10372.0    12367.0   \n",
       "..         ...        ...        ...        ...        ...        ...   \n",
       "884        NaN        NaN        NaN        NaN        NaN        6.0   \n",
       "885        NaN        9.0       12.0       15.0        7.0        9.0   \n",
       "886       14.0        9.0       20.0       30.0       33.0       22.0   \n",
       "887        NaN        NaN       13.0        6.0        8.0       11.0   \n",
       "888        NaN        NaN        5.0        6.0        8.0        7.0   \n",
       "\n",
       "     7/31/2022  8/31/2022  \n",
       "0     409400.0     361392  \n",
       "1      14057.0      11642  \n",
       "2       8691.0       7464  \n",
       "3      12056.0      10313  \n",
       "4      10742.0       8544  \n",
       "..         ...        ...  \n",
       "884        NaN          6  \n",
       "885       13.0          7  \n",
       "886       20.0         28  \n",
       "887       10.0         18  \n",
       "888        6.0         12  \n",
       "\n",
       "[889 rows x 61 columns]"
      ]
     },
     "execution_count": 233,
     "metadata": {},
     "output_type": "execute_result"
    }
   ],
   "source": [
    "df = pd.read_csv('Metro_new_listings_uc_sfrcondo_month.csv')\n",
    "df"
   ]
  },
  {
   "cell_type": "markdown",
   "metadata": {},
   "source": [
    "# Isolate the data for the team"
   ]
  },
  {
   "cell_type": "code",
   "execution_count": 234,
   "metadata": {},
   "outputs": [
    {
     "data": {
      "text/plain": [
       "RegionID            394492\n",
       "SizeRank                32\n",
       "RegionName    Columbus, OH\n",
       "RegionType             msa\n",
       "StateName               OH\n",
       "                  ...     \n",
       "4/30/2022           2678.0\n",
       "5/31/2022           2669.0\n",
       "6/30/2022           3127.0\n",
       "7/31/2022           2793.0\n",
       "8/31/2022             2454\n",
       "Name: 32, Length: 61, dtype: object"
      ]
     },
     "execution_count": 234,
     "metadata": {},
     "output_type": "execute_result"
    }
   ],
   "source": [
    "team = 32\n",
    "row = df.iloc[team]\n",
    "row"
   ]
  },
  {
   "cell_type": "markdown",
   "metadata": {},
   "source": [
    "Calculate the monthly averages for years 1 thru 4. "
   ]
  },
  {
   "cell_type": "code",
   "execution_count": 235,
   "metadata": {},
   "outputs": [
    {
     "data": {
      "text/plain": [
       "2715.1666666666665"
      ]
     },
     "execution_count": 235,
     "metadata": {},
     "output_type": "execute_result"
    }
   ],
   "source": [
    "# 2018\n",
    "y1 = row[row.keys()[5:17]]\n",
    "y1avg = y1.mean()\n",
    "y1avg"
   ]
  },
  {
   "cell_type": "code",
   "execution_count": 236,
   "metadata": {},
   "outputs": [
    {
     "data": {
      "text/plain": [
       "2680.4166666666665"
      ]
     },
     "execution_count": 236,
     "metadata": {},
     "output_type": "execute_result"
    }
   ],
   "source": [
    "y2 = row[row.keys()[17:29]]\n",
    "y2avg = y2.mean()\n",
    "y2avg "
   ]
  },
  {
   "cell_type": "code",
   "execution_count": 237,
   "metadata": {},
   "outputs": [
    {
     "data": {
      "text/plain": [
       "2525.0833333333335"
      ]
     },
     "execution_count": 237,
     "metadata": {},
     "output_type": "execute_result"
    }
   ],
   "source": [
    "y3 = row[row.keys()[29:41]]\n",
    "y3avg = y3.mean()\n",
    "y3avg "
   ]
  },
  {
   "cell_type": "code",
   "execution_count": 238,
   "metadata": {},
   "outputs": [
    {
     "data": {
      "text/plain": [
       "2612.5833333333335"
      ]
     },
     "execution_count": 238,
     "metadata": {},
     "output_type": "execute_result"
    }
   ],
   "source": [
    "y4 = row[row.keys()[41:53]]\n",
    "y4avg = y4.mean()\n",
    "y4avg "
   ]
  },
  {
   "cell_type": "markdown",
   "metadata": {},
   "source": [
    "# Forecast Using the Decomposition Method"
   ]
  },
  {
   "cell_type": "markdown",
   "metadata": {},
   "source": [
    "Calculate the seasonal index for each season each year, and then the average (over the two years) for each season."
   ]
  },
  {
   "cell_type": "code",
   "execution_count": 239,
   "metadata": {},
   "outputs": [
    {
     "data": {
      "text/html": [
       "<div>\n",
       "<style scoped>\n",
       "    .dataframe tbody tr th:only-of-type {\n",
       "        vertical-align: middle;\n",
       "    }\n",
       "\n",
       "    .dataframe tbody tr th {\n",
       "        vertical-align: top;\n",
       "    }\n",
       "\n",
       "    .dataframe thead th {\n",
       "        text-align: right;\n",
       "    }\n",
       "</style>\n",
       "<table border=\"1\" class=\"dataframe\">\n",
       "  <thead>\n",
       "    <tr style=\"text-align: right;\">\n",
       "      <th></th>\n",
       "      <th>January</th>\n",
       "      <th>February</th>\n",
       "      <th>March</th>\n",
       "      <th>April</th>\n",
       "      <th>May</th>\n",
       "      <th>June</th>\n",
       "      <th>July</th>\n",
       "      <th>August</th>\n",
       "      <th>September</th>\n",
       "      <th>October</th>\n",
       "      <th>November</th>\n",
       "      <th>December</th>\n",
       "    </tr>\n",
       "  </thead>\n",
       "  <tbody>\n",
       "    <tr>\n",
       "      <th>Year 1</th>\n",
       "      <td>0.602173</td>\n",
       "      <td>0.766435</td>\n",
       "      <td>1.081333</td>\n",
       "      <td>1.184458</td>\n",
       "      <td>1.430483</td>\n",
       "      <td>1.306365</td>\n",
       "      <td>1.277638</td>\n",
       "      <td>1.240071</td>\n",
       "      <td>0.972316</td>\n",
       "      <td>0.989994</td>\n",
       "      <td>0.712295</td>\n",
       "      <td>0.436437</td>\n",
       "    </tr>\n",
       "    <tr>\n",
       "      <th>Year 2</th>\n",
       "      <td>0.703622</td>\n",
       "      <td>0.700637</td>\n",
       "      <td>1.040137</td>\n",
       "      <td>1.180413</td>\n",
       "      <td>1.422540</td>\n",
       "      <td>1.281890</td>\n",
       "      <td>1.244210</td>\n",
       "      <td>1.189740</td>\n",
       "      <td>1.033421</td>\n",
       "      <td>1.042002</td>\n",
       "      <td>0.699518</td>\n",
       "      <td>0.461868</td>\n",
       "    </tr>\n",
       "    <tr>\n",
       "      <th>Year 3</th>\n",
       "      <td>0.767895</td>\n",
       "      <td>0.832448</td>\n",
       "      <td>1.056203</td>\n",
       "      <td>0.911653</td>\n",
       "      <td>1.095409</td>\n",
       "      <td>1.188476</td>\n",
       "      <td>1.306096</td>\n",
       "      <td>1.203129</td>\n",
       "      <td>1.182139</td>\n",
       "      <td>1.146893</td>\n",
       "      <td>0.756807</td>\n",
       "      <td>0.552853</td>\n",
       "    </tr>\n",
       "    <tr>\n",
       "      <th>Year 4</th>\n",
       "      <td>0.706963</td>\n",
       "      <td>0.630028</td>\n",
       "      <td>0.911741</td>\n",
       "      <td>1.133361</td>\n",
       "      <td>1.195369</td>\n",
       "      <td>1.329336</td>\n",
       "      <td>1.416988</td>\n",
       "      <td>1.247424</td>\n",
       "      <td>1.114223</td>\n",
       "      <td>1.074798</td>\n",
       "      <td>0.760933</td>\n",
       "      <td>0.478836</td>\n",
       "    </tr>\n",
       "    <tr>\n",
       "      <th>Average</th>\n",
       "      <td>0.695163</td>\n",
       "      <td>0.732387</td>\n",
       "      <td>1.022354</td>\n",
       "      <td>1.102471</td>\n",
       "      <td>1.285950</td>\n",
       "      <td>1.276517</td>\n",
       "      <td>1.311233</td>\n",
       "      <td>1.220091</td>\n",
       "      <td>1.075525</td>\n",
       "      <td>1.063422</td>\n",
       "      <td>0.732388</td>\n",
       "      <td>0.482499</td>\n",
       "    </tr>\n",
       "  </tbody>\n",
       "</table>\n",
       "</div>"
      ],
      "text/plain": [
       "          January  February     March     April       May      June      July  \\\n",
       "Year 1   0.602173  0.766435  1.081333  1.184458  1.430483  1.306365  1.277638   \n",
       "Year 2   0.703622  0.700637  1.040137  1.180413  1.422540  1.281890  1.244210   \n",
       "Year 3   0.767895  0.832448  1.056203  0.911653  1.095409  1.188476  1.306096   \n",
       "Year 4   0.706963  0.630028  0.911741  1.133361  1.195369  1.329336  1.416988   \n",
       "Average  0.695163  0.732387  1.022354  1.102471  1.285950  1.276517  1.311233   \n",
       "\n",
       "           August  September   October  November  December  \n",
       "Year 1   1.240071   0.972316  0.989994  0.712295  0.436437  \n",
       "Year 2   1.189740   1.033421  1.042002  0.699518  0.461868  \n",
       "Year 3   1.203129   1.182139  1.146893  0.756807  0.552853  \n",
       "Year 4   1.247424   1.114223  1.074798  0.760933  0.478836  \n",
       "Average  1.220091   1.075525  1.063422  0.732388  0.482499  "
      ]
     },
     "execution_count": 239,
     "metadata": {},
     "output_type": "execute_result"
    }
   ],
   "source": [
    "values = [(y1/y1avg).values,\n",
    "         (y2/y2avg).values,\n",
    "         (y3/y3avg).values,\n",
    "         (y4/y4avg).values]\n",
    "SI = pd.DataFrame(values, columns = ['January', 'February', 'March', 'April', 'May', 'June', 'July', 'August', 'September', 'October', 'November', 'December'], index = ['Year 1', 'Year 2', 'Year 3', 'Year 4'])\n",
    "SI.loc['Average'] = SI.mean()\n",
    "SI"
   ]
  },
  {
   "cell_type": "markdown",
   "metadata": {},
   "source": [
    "Deseasonalize the data."
   ]
  },
  {
   "cell_type": "code",
   "execution_count": 240,
   "metadata": {},
   "outputs": [
    {
     "name": "stdout",
     "output_type": "stream",
     "text": [
      "y =  [2351.9651278320257 2841.393653863127 2871.805059650878 2917.0827216032526\n",
      " 3020.334527786027 2778.6553033196856 2645.6018562385684 2759.629918834335\n",
      " 2454.615496814374 2527.6890648725034 2640.6762465424877 2455.964620203485\n",
      " 2713.0313340007347 2564.2178192959886 2727.041044382373\n",
      " 2869.9159611793193 2965.1224393532757 2691.6999216821087\n",
      " 2543.407953460832 2613.739177654498 2575.486714460537 2626.426918969086\n",
      " 2560.1178708723705 2565.8094513180713 2789.2724054228124\n",
      " 2870.0670160597274 2608.6866805479876 2088.036201844119 2150.938543732274\n",
      " 2350.928831480794 2515.1902340371284 2489.9779309232877\n",
      " 2775.3891128753435 2723.284052035257 2609.27213399312 2893.2714006785363\n",
      " 2656.9294135203377 2247.445436933545 2329.918137632286 2685.7841849089646\n",
      " 2428.55425599273 2720.6850488946343 2823.2972245013493 2671.1119410398273\n",
      " 2706.585496676759 2640.532326697169 2714.407641223612 2592.7525231008945]\n"
     ]
    }
   ],
   "source": [
    "y_dm = np.array(row[5:53])\n",
    "y_dm[0] = y_dm[0]/SI.loc['Average']['January']\n",
    "y_dm[1] = y_dm[1]/SI.loc['Average']['February']\n",
    "y_dm[2] = y_dm[2]/SI.loc['Average']['March']\n",
    "y_dm[3] = y_dm[3]/SI.loc['Average']['April']\n",
    "y_dm[4] = y_dm[4]/SI.loc['Average']['May']\n",
    "y_dm[5] = y_dm[5]/SI.loc['Average']['June']\n",
    "y_dm[6] = y_dm[6]/SI.loc['Average']['July']\n",
    "y_dm[7] = y_dm[7]/SI.loc['Average']['August']\n",
    "y_dm[8] = y_dm[8]/SI.loc['Average']['September']\n",
    "y_dm[9] = y_dm[9]/SI.loc['Average']['October']\n",
    "y_dm[10] = y_dm[10]/SI.loc['Average']['November']\n",
    "y_dm[11] = y_dm[11]/SI.loc['Average']['December']\n",
    "y_dm[12] = y_dm[12]/SI.loc['Average']['January']\n",
    "y_dm[13] = y_dm[13]/SI.loc['Average']['February']\n",
    "y_dm[14] = y_dm[14]/SI.loc['Average']['March']\n",
    "y_dm[15] = y_dm[15]/SI.loc['Average']['April']\n",
    "y_dm[16] = y_dm[16]/SI.loc['Average']['May']\n",
    "y_dm[17] = y_dm[17]/SI.loc['Average']['June']\n",
    "y_dm[18] = y_dm[18]/SI.loc['Average']['July']\n",
    "y_dm[19] = y_dm[19]/SI.loc['Average']['August']\n",
    "y_dm[20] = y_dm[20]/SI.loc['Average']['September']\n",
    "y_dm[21] = y_dm[21]/SI.loc['Average']['October']\n",
    "y_dm[22] = y_dm[22]/SI.loc['Average']['November']\n",
    "y_dm[23] = y_dm[23]/SI.loc['Average']['December']\n",
    "y_dm[24] = y_dm[24]/SI.loc['Average']['January']\n",
    "y_dm[25] = y_dm[25]/SI.loc['Average']['February']\n",
    "y_dm[26] = y_dm[26]/SI.loc['Average']['March']\n",
    "y_dm[27] = y_dm[27]/SI.loc['Average']['April']\n",
    "y_dm[28] = y_dm[28]/SI.loc['Average']['May']\n",
    "y_dm[29] = y_dm[29]/SI.loc['Average']['June']\n",
    "y_dm[30] = y_dm[30]/SI.loc['Average']['July']\n",
    "y_dm[31] = y_dm[31]/SI.loc['Average']['August']\n",
    "y_dm[32] = y_dm[32]/SI.loc['Average']['September']\n",
    "y_dm[33] = y_dm[33]/SI.loc['Average']['October']\n",
    "y_dm[34] = y_dm[34]/SI.loc['Average']['November']\n",
    "y_dm[35] = y_dm[35]/SI.loc['Average']['December']\n",
    "y_dm[36] = y_dm[36]/SI.loc['Average']['January']\n",
    "y_dm[37] = y_dm[37]/SI.loc['Average']['February']\n",
    "y_dm[38] = y_dm[38]/SI.loc['Average']['March']\n",
    "y_dm[39] = y_dm[39]/SI.loc['Average']['April']\n",
    "y_dm[40] = y_dm[40]/SI.loc['Average']['May']\n",
    "y_dm[41] = y_dm[41]/SI.loc['Average']['June']\n",
    "y_dm[42] = y_dm[42]/SI.loc['Average']['July']\n",
    "y_dm[43] = y_dm[43]/SI.loc['Average']['August']\n",
    "y_dm[44] = y_dm[44]/SI.loc['Average']['September']\n",
    "y_dm[45] = y_dm[45]/SI.loc['Average']['October']\n",
    "y_dm[46] = y_dm[46]/SI.loc['Average']['November']\n",
    "y_dm[47] = y_dm[47]/SI.loc['Average']['December']\n",
    "print(\"y = \",y_dm)"
   ]
  },
  {
   "cell_type": "markdown",
   "metadata": {},
   "source": [
    "Perform simple linear regression to extract trend."
   ]
  },
  {
   "cell_type": "code",
   "execution_count": 241,
   "metadata": {},
   "outputs": [
    {
     "name": "stdout",
     "output_type": "stream",
     "text": [
      "Coefficient of determination: 0.03869487932998339\n",
      "Intercept: 2701.7785199288774\n",
      "Slope: -2.8245072939146927\n"
     ]
    }
   ],
   "source": [
    "model_dm = LinearRegression()\n",
    "x = np.arange(1, 49).reshape((-1, 1))\n",
    "model_dm.fit(x,y_dm)\n",
    "r_sq_dm = model_dm.score(x, y_dm)\n",
    "print('Coefficient of determination:', r_sq_dm)\n",
    "intercept_dm = model_dm.intercept_\n",
    "print('Intercept:', intercept_dm)\n",
    "slope_dm = model_dm.coef_[0]\n",
    "print('Slope:', slope_dm)"
   ]
  },
  {
   "cell_type": "markdown",
   "metadata": {},
   "source": [
    "Extend the trend to year 5. "
   ]
  },
  {
   "cell_type": "code",
   "execution_count": 242,
   "metadata": {},
   "outputs": [
    {
     "data": {
      "text/plain": [
       "[2563.3776625270575,\n",
       " 2560.5531552331427,\n",
       " 2557.728647939228,\n",
       " 2554.9041406453134,\n",
       " 2552.0796333513986,\n",
       " 2549.2551260574837,\n",
       " 2546.4306187635693,\n",
       " 2543.6061114696545,\n",
       " 2540.78160417574,\n",
       " 2537.9570968818252,\n",
       " 2535.1325895879104,\n",
       " 2532.308082293996]"
      ]
     },
     "execution_count": 242,
     "metadata": {},
     "output_type": "execute_result"
    }
   ],
   "source": [
    "#The forecast calculation is explicitly stated here but you can use sklearn's Predict function, as well (https://scikit-learn.org/stable/modules/generated/sklearn.linear_model.LinearRegression.html).\n",
    "forecast_dm = []\n",
    "for t in range(49,61):\n",
    "    forecast_dm.append(intercept_dm + t*slope_dm)\n",
    "forecast_dm"
   ]
  },
  {
   "cell_type": "markdown",
   "metadata": {},
   "source": [
    "Seasonalize year 5 forecasts."
   ]
  },
  {
   "cell_type": "code",
   "execution_count": 243,
   "metadata": {},
   "outputs": [
    {
     "data": {
      "text/plain": [
       "[1781.9662496845758,\n",
       " 1875.3160473894864,\n",
       " 2614.9028761940035,\n",
       " 2816.708506572427,\n",
       " 3281.847492305017,\n",
       " 3254.1668343400074,\n",
       " 3338.963417968758,\n",
       " 3103.431267673706,\n",
       " 2732.673790957985,\n",
       " 2698.919250482436,\n",
       " 1856.701075977256,\n",
       " 1221.835629403228]"
      ]
     },
     "execution_count": 243,
     "metadata": {},
     "output_type": "execute_result"
    }
   ],
   "source": [
    "forecast_dm[0] = forecast_dm[0]*SI.loc['Average']['January']\n",
    "forecast_dm[1] = forecast_dm[1]*SI.loc['Average']['February']\n",
    "forecast_dm[2] = forecast_dm[2]*SI.loc['Average']['March']\n",
    "forecast_dm[3] = forecast_dm[3]*SI.loc['Average']['April']\n",
    "forecast_dm[4] = forecast_dm[4]*SI.loc['Average']['May']\n",
    "forecast_dm[5] = forecast_dm[5]*SI.loc['Average']['June']\n",
    "forecast_dm[6] = forecast_dm[6]*SI.loc['Average']['July']\n",
    "forecast_dm[7] = forecast_dm[7]*SI.loc['Average']['August']\n",
    "forecast_dm[8] = forecast_dm[8]*SI.loc['Average']['September']\n",
    "forecast_dm[9] = forecast_dm[9]*SI.loc['Average']['October']\n",
    "forecast_dm[10] = forecast_dm[10]*SI.loc['Average']['November']\n",
    "forecast_dm[11] = forecast_dm[11]*SI.loc['Average']['December']\n",
    "forecast_dm"
   ]
  },
  {
   "cell_type": "markdown",
   "metadata": {},
   "source": [
    "# Forecast Using Multiple Linear Regression"
   ]
  },
  {
   "cell_type": "markdown",
   "metadata": {},
   "source": [
    "Populate independent variables"
   ]
  },
  {
   "cell_type": "code",
   "execution_count": 244,
   "metadata": {},
   "outputs": [],
   "source": [
    "x = np.arange(1, 49).reshape((-1, 1))#Must change this to add the dummy binary variables.\n",
    "x2 = [np.append(v, np.zeros(11, dtype=np.int8)) for v in x]\n",
    "for i, x in enumerate(x2):\n",
    "    if(i%12 == 0): \n",
    "        continue\n",
    "    x[(i%12)] = 1\n"
   ]
  },
  {
   "cell_type": "markdown",
   "metadata": {},
   "source": [
    "Run multiple linear regression."
   ]
  },
  {
   "cell_type": "code",
   "execution_count": 245,
   "metadata": {},
   "outputs": [
    {
     "data": {
      "text/html": [
       "<style>#sk-container-id-13 {color: black;background-color: white;}#sk-container-id-13 pre{padding: 0;}#sk-container-id-13 div.sk-toggleable {background-color: white;}#sk-container-id-13 label.sk-toggleable__label {cursor: pointer;display: block;width: 100%;margin-bottom: 0;padding: 0.3em;box-sizing: border-box;text-align: center;}#sk-container-id-13 label.sk-toggleable__label-arrow:before {content: \"▸\";float: left;margin-right: 0.25em;color: #696969;}#sk-container-id-13 label.sk-toggleable__label-arrow:hover:before {color: black;}#sk-container-id-13 div.sk-estimator:hover label.sk-toggleable__label-arrow:before {color: black;}#sk-container-id-13 div.sk-toggleable__content {max-height: 0;max-width: 0;overflow: hidden;text-align: left;background-color: #f0f8ff;}#sk-container-id-13 div.sk-toggleable__content pre {margin: 0.2em;color: black;border-radius: 0.25em;background-color: #f0f8ff;}#sk-container-id-13 input.sk-toggleable__control:checked~div.sk-toggleable__content {max-height: 200px;max-width: 100%;overflow: auto;}#sk-container-id-13 input.sk-toggleable__control:checked~label.sk-toggleable__label-arrow:before {content: \"▾\";}#sk-container-id-13 div.sk-estimator input.sk-toggleable__control:checked~label.sk-toggleable__label {background-color: #d4ebff;}#sk-container-id-13 div.sk-label input.sk-toggleable__control:checked~label.sk-toggleable__label {background-color: #d4ebff;}#sk-container-id-13 input.sk-hidden--visually {border: 0;clip: rect(1px 1px 1px 1px);clip: rect(1px, 1px, 1px, 1px);height: 1px;margin: -1px;overflow: hidden;padding: 0;position: absolute;width: 1px;}#sk-container-id-13 div.sk-estimator {font-family: monospace;background-color: #f0f8ff;border: 1px dotted black;border-radius: 0.25em;box-sizing: border-box;margin-bottom: 0.5em;}#sk-container-id-13 div.sk-estimator:hover {background-color: #d4ebff;}#sk-container-id-13 div.sk-parallel-item::after {content: \"\";width: 100%;border-bottom: 1px solid gray;flex-grow: 1;}#sk-container-id-13 div.sk-label:hover label.sk-toggleable__label {background-color: #d4ebff;}#sk-container-id-13 div.sk-serial::before {content: \"\";position: absolute;border-left: 1px solid gray;box-sizing: border-box;top: 0;bottom: 0;left: 50%;z-index: 0;}#sk-container-id-13 div.sk-serial {display: flex;flex-direction: column;align-items: center;background-color: white;padding-right: 0.2em;padding-left: 0.2em;position: relative;}#sk-container-id-13 div.sk-item {position: relative;z-index: 1;}#sk-container-id-13 div.sk-parallel {display: flex;align-items: stretch;justify-content: center;background-color: white;position: relative;}#sk-container-id-13 div.sk-item::before, #sk-container-id-13 div.sk-parallel-item::before {content: \"\";position: absolute;border-left: 1px solid gray;box-sizing: border-box;top: 0;bottom: 0;left: 50%;z-index: -1;}#sk-container-id-13 div.sk-parallel-item {display: flex;flex-direction: column;z-index: 1;position: relative;background-color: white;}#sk-container-id-13 div.sk-parallel-item:first-child::after {align-self: flex-end;width: 50%;}#sk-container-id-13 div.sk-parallel-item:last-child::after {align-self: flex-start;width: 50%;}#sk-container-id-13 div.sk-parallel-item:only-child::after {width: 0;}#sk-container-id-13 div.sk-dashed-wrapped {border: 1px dashed gray;margin: 0 0.4em 0.5em 0.4em;box-sizing: border-box;padding-bottom: 0.4em;background-color: white;}#sk-container-id-13 div.sk-label label {font-family: monospace;font-weight: bold;display: inline-block;line-height: 1.2em;}#sk-container-id-13 div.sk-label-container {text-align: center;}#sk-container-id-13 div.sk-container {/* jupyter's `normalize.less` sets `[hidden] { display: none; }` but bootstrap.min.css set `[hidden] { display: none !important; }` so we also need the `!important` here to be able to override the default hidden behavior on the sphinx rendered scikit-learn.org. See: https://github.com/scikit-learn/scikit-learn/issues/21755 */display: inline-block !important;position: relative;}#sk-container-id-13 div.sk-text-repr-fallback {display: none;}</style><div id=\"sk-container-id-13\" class=\"sk-top-container\"><div class=\"sk-text-repr-fallback\"><pre>LinearRegression()</pre><b>In a Jupyter environment, please rerun this cell to show the HTML representation or trust the notebook. <br />On GitHub, the HTML representation is unable to render, please try loading this page with nbviewer.org.</b></div><div class=\"sk-container\" hidden><div class=\"sk-item\"><div class=\"sk-estimator sk-toggleable\"><input class=\"sk-toggleable__control sk-hidden--visually\" id=\"sk-estimator-id-13\" type=\"checkbox\" checked><label for=\"sk-estimator-id-13\" class=\"sk-toggleable__label sk-toggleable__label-arrow\">LinearRegression</label><div class=\"sk-toggleable__content\"><pre>LinearRegression()</pre></div></div></div></div></div>"
      ],
      "text/plain": [
       "LinearRegression()"
      ]
     },
     "execution_count": 245,
     "metadata": {},
     "output_type": "execute_result"
    }
   ],
   "source": [
    "model_mlr = LinearRegression()\n",
    "model_mlr.fit(x2,np.array(row[5:53])) #Must change this. Basically, you need to extend the simple linear regression model to take multiple independent variables. You are referred to https://scikit-learn.org/stable/modules/generated/sklearn.linear_model.LinearRegression.html for the documentation of the package we use for this purpose. Make sure you use the correct y values, too."
   ]
  },
  {
   "cell_type": "markdown",
   "metadata": {},
   "source": [
    "Calculate the forecasts."
   ]
  },
  {
   "cell_type": "code",
   "execution_count": 246,
   "metadata": {},
   "outputs": [
    {
     "data": {
      "text/plain": [
       "array([1710.97916667, 1810.97916667, 2577.47916667, 2794.97916667,\n",
       "       3280.72916667, 3248.47916667, 3335.22916667, 3097.47916667,\n",
       "       2710.72916667, 2680.47916667, 1811.22916667, 1151.72916667])"
      ]
     },
     "execution_count": 246,
     "metadata": {},
     "output_type": "execute_result"
    }
   ],
   "source": [
    "ex = np.arange(49, 61).reshape((-1, 1))#Must change this to add the dummy binary variables.\n",
    "newx = [np.append(v, np.zeros(11, dtype=np.int8)) for v in ex]\n",
    "for i, x in enumerate(newx):\n",
    "    if(i%12 == 0): \n",
    "        continue\n",
    "    x[(i%12)] = 1\n",
    "\n",
    "forecast_mlr = model_mlr.predict(newx)\n",
    "forecast_mlr"
   ]
  },
  {
   "cell_type": "markdown",
   "metadata": {},
   "source": [
    "# Calculate Forecast Accuracy"
   ]
  },
  {
   "cell_type": "code",
   "execution_count": 247,
   "metadata": {},
   "outputs": [
    {
     "data": {
      "text/plain": [
       "[1450.0, 1439.0, 2068.0, 2678.0, 2669.0, 3127.0, 2793.0, 2454]"
      ]
     },
     "execution_count": 247,
     "metadata": {},
     "output_type": "execute_result"
    }
   ],
   "source": [
    "actual_Year5 = []\n",
    "for t in range(53,61):\n",
    "    actual_Year5.append(row[t])\n",
    "actual_Year5"
   ]
  },
  {
   "cell_type": "code",
   "execution_count": 248,
   "metadata": {},
   "outputs": [
    {
     "name": "stdout",
     "output_type": "stream",
     "text": [
      "MAD_DM: 423.66283651599764\n",
      "MAD_MLR: 397.2916666666672\n"
     ]
    }
   ],
   "source": [
    "deviation_dm = []\n",
    "deviation_mlr = []\n",
    "for t in range(8):\n",
    "    deviation_dm.append(forecast_dm[t] - actual_Year5[t]) \n",
    "    deviation_mlr.append(forecast_mlr[t] - actual_Year5[t]) \n",
    "MAD_dm = pf.CalculateMeanAbsoluteDeviation(deviation_dm)\n",
    "MAD_mlr = pf.CalculateMeanAbsoluteDeviation(deviation_mlr)\n",
    "print(\"MAD_DM:\",MAD_dm)\n",
    "print(\"MAD_MLR:\",MAD_mlr)"
   ]
  },
  {
   "cell_type": "code",
   "execution_count": 249,
   "metadata": {},
   "outputs": [
    {
     "data": {
      "text/plain": [
       "[<matplotlib.lines.Line2D at 0x13b24c6a0>]"
      ]
     },
     "execution_count": 249,
     "metadata": {},
     "output_type": "execute_result"
    },
    {
     "data": {
      "image/png": "[encoded data removed]",
      "text/plain": [
       "<Figure size 640x480 with 1 Axes>"
      ]
     },
     "metadata": {},
     "output_type": "display_data"
    }
   ],
   "source": [
    "plot = plt.figure()\n",
    "plt.subplot().plot(range(56), row[5:65], 'y--')\n",
    "plt.subplot().plot(range(49,57), forecast_dm[:8], 'g--')\n",
    "plt.subplot().plot(range(60), model_mlr.predict(np.concatenate((x2, newx))), 'r--')"
   ]
  },
  {
   "cell_type": "code",
   "execution_count": 250,
   "metadata": {},
   "outputs": [
    {
     "data": {
      "text/plain": [
       "[<matplotlib.lines.Line2D at 0x13b2cb5e0>]"
      ]
     },
     "execution_count": 250,
     "metadata": {},
     "output_type": "execute_result"
    },
    {
     "data": {
      "image/png": "[encoded data removed]",
      "text/plain": [
       "<Figure size 640x480 with 1 Axes>"
      ]
     },
     "metadata": {},
     "output_type": "display_data"
    }
   ],
   "source": [
    "plot = plt.figure()\n",
    "plt.subplot().plot(range(8), actual_Year5, 'y--')\n",
    "plt.subplot().plot(range(8), forecast_dm[:8], 'g--')\n",
    "plt.subplot().plot(range(8), forecast_mlr[:8], 'r--')"
   ]
  },
  {
   "cell_type": "markdown",
   "metadata": {},
   "source": [
    "# Bonus Part\n",
    "\n",
    "Adding unemployment rate for each month as another factor in multiple linear regression\n"
   ]
  },
  {
   "cell_type": "code",
   "execution_count": 251,
   "metadata": {},
   "outputs": [],
   "source": [
    "df = pd.read_csv('metro_san_antonio.csv')\n",
    "df.columns = df.iloc[9]\n",
    "df.drop(df.index[:10], axis=0, inplace=True)\n",
    "vals = df[72:128]\n",
    "unemployment = pd.to_numeric(vals['unemployment']).values  \n"
   ]
  },
  {
   "cell_type": "markdown",
   "metadata": {},
   "source": [
    "## Add new data to x values\n",
    "\n",
    "We normalized the independent variables with a scalar to normalize the effect of each variable (if we didn't do this unemployment rate would be weighted too much and the prediction was too off)"
   ]
  },
  {
   "cell_type": "code",
   "execution_count": 252,
   "metadata": {},
   "outputs": [],
   "source": [
    "from sklearn.preprocessing import StandardScaler\n",
    "x = np.arange(1, 49).reshape((-1, 1))\n",
    "x2 = [np.append(v, np.zeros(11, dtype=np.int8))for v in x]\n",
    "x2 = [np.append(v, unemployment[i])for i, v in enumerate(x2)]\n",
    "\n",
    "for i, x in enumerate(x2):\n",
    "    if(i%12 == 0): \n",
    "        continue\n",
    "    x[(i%12)] = 1\n",
    "\n",
    "sc_x = StandardScaler()\n",
    "x2 = sc_x.fit_transform(x2)"
   ]
  },
  {
   "cell_type": "code",
   "execution_count": 253,
   "metadata": {},
   "outputs": [
    {
     "data": {
      "text/html": [
       "<style>#sk-container-id-14 {color: black;background-color: white;}#sk-container-id-14 pre{padding: 0;}#sk-container-id-14 div.sk-toggleable {background-color: white;}#sk-container-id-14 label.sk-toggleable__label {cursor: pointer;display: block;width: 100%;margin-bottom: 0;padding: 0.3em;box-sizing: border-box;text-align: center;}#sk-container-id-14 label.sk-toggleable__label-arrow:before {content: \"▸\";float: left;margin-right: 0.25em;color: #696969;}#sk-container-id-14 label.sk-toggleable__label-arrow:hover:before {color: black;}#sk-container-id-14 div.sk-estimator:hover label.sk-toggleable__label-arrow:before {color: black;}#sk-container-id-14 div.sk-toggleable__content {max-height: 0;max-width: 0;overflow: hidden;text-align: left;background-color: #f0f8ff;}#sk-container-id-14 div.sk-toggleable__content pre {margin: 0.2em;color: black;border-radius: 0.25em;background-color: #f0f8ff;}#sk-container-id-14 input.sk-toggleable__control:checked~div.sk-toggleable__content {max-height: 200px;max-width: 100%;overflow: auto;}#sk-container-id-14 input.sk-toggleable__control:checked~label.sk-toggleable__label-arrow:before {content: \"▾\";}#sk-container-id-14 div.sk-estimator input.sk-toggleable__control:checked~label.sk-toggleable__label {background-color: #d4ebff;}#sk-container-id-14 div.sk-label input.sk-toggleable__control:checked~label.sk-toggleable__label {background-color: #d4ebff;}#sk-container-id-14 input.sk-hidden--visually {border: 0;clip: rect(1px 1px 1px 1px);clip: rect(1px, 1px, 1px, 1px);height: 1px;margin: -1px;overflow: hidden;padding: 0;position: absolute;width: 1px;}#sk-container-id-14 div.sk-estimator {font-family: monospace;background-color: #f0f8ff;border: 1px dotted black;border-radius: 0.25em;box-sizing: border-box;margin-bottom: 0.5em;}#sk-container-id-14 div.sk-estimator:hover {background-color: #d4ebff;}#sk-container-id-14 div.sk-parallel-item::after {content: \"\";width: 100%;border-bottom: 1px solid gray;flex-grow: 1;}#sk-container-id-14 div.sk-label:hover label.sk-toggleable__label {background-color: #d4ebff;}#sk-container-id-14 div.sk-serial::before {content: \"\";position: absolute;border-left: 1px solid gray;box-sizing: border-box;top: 0;bottom: 0;left: 50%;z-index: 0;}#sk-container-id-14 div.sk-serial {display: flex;flex-direction: column;align-items: center;background-color: white;padding-right: 0.2em;padding-left: 0.2em;position: relative;}#sk-container-id-14 div.sk-item {position: relative;z-index: 1;}#sk-container-id-14 div.sk-parallel {display: flex;align-items: stretch;justify-content: center;background-color: white;position: relative;}#sk-container-id-14 div.sk-item::before, #sk-container-id-14 div.sk-parallel-item::before {content: \"\";position: absolute;border-left: 1px solid gray;box-sizing: border-box;top: 0;bottom: 0;left: 50%;z-index: -1;}#sk-container-id-14 div.sk-parallel-item {display: flex;flex-direction: column;z-index: 1;position: relative;background-color: white;}#sk-container-id-14 div.sk-parallel-item:first-child::after {align-self: flex-end;width: 50%;}#sk-container-id-14 div.sk-parallel-item:last-child::after {align-self: flex-start;width: 50%;}#sk-container-id-14 div.sk-parallel-item:only-child::after {width: 0;}#sk-container-id-14 div.sk-dashed-wrapped {border: 1px dashed gray;margin: 0 0.4em 0.5em 0.4em;box-sizing: border-box;padding-bottom: 0.4em;background-color: white;}#sk-container-id-14 div.sk-label label {font-family: monospace;font-weight: bold;display: inline-block;line-height: 1.2em;}#sk-container-id-14 div.sk-label-container {text-align: center;}#sk-container-id-14 div.sk-container {/* jupyter's `normalize.less` sets `[hidden] { display: none; }` but bootstrap.min.css set `[hidden] { display: none !important; }` so we also need the `!important` here to be able to override the default hidden behavior on the sphinx rendered scikit-learn.org. See: https://github.com/scikit-learn/scikit-learn/issues/21755 */display: inline-block !important;position: relative;}#sk-container-id-14 div.sk-text-repr-fallback {display: none;}</style><div id=\"sk-container-id-14\" class=\"sk-top-container\"><div class=\"sk-text-repr-fallback\"><pre>LinearRegression()</pre><b>In a Jupyter environment, please rerun this cell to show the HTML representation or trust the notebook. <br />On GitHub, the HTML representation is unable to render, please try loading this page with nbviewer.org.</b></div><div class=\"sk-container\" hidden><div class=\"sk-item\"><div class=\"sk-estimator sk-toggleable\"><input class=\"sk-toggleable__control sk-hidden--visually\" id=\"sk-estimator-id-14\" type=\"checkbox\" checked><label for=\"sk-estimator-id-14\" class=\"sk-toggleable__label sk-toggleable__label-arrow\">LinearRegression</label><div class=\"sk-toggleable__content\"><pre>LinearRegression()</pre></div></div></div></div></div>"
      ],
      "text/plain": [
       "LinearRegression()"
      ]
     },
     "execution_count": 253,
     "metadata": {},
     "output_type": "execute_result"
    }
   ],
   "source": [
    "model_unem = LinearRegression()\n",
    "model_unem.fit(x2,np.array(row[5:53])) "
   ]
  },
  {
   "cell_type": "code",
   "execution_count": 254,
   "metadata": {},
   "outputs": [
    {
     "data": {
      "text/plain": [
       "array([1446.01793765, 1542.8676991 , 2559.23766633, 2943.13641845,\n",
       "       3291.64565169, 3069.63807646, 3195.16369518, 3018.79285513])"
      ]
     },
     "execution_count": 254,
     "metadata": {},
     "output_type": "execute_result"
    }
   ],
   "source": [
    "#months 49-56 prediction\n",
    "\n",
    "ex = np.arange(49, 49+8).reshape((-1,1))\n",
    "newx = [np.append(v, np.zeros(11, dtype=np.int8)) for v in ex] \n",
    "newx = [np.append(v, unemployment[i])for i, v in enumerate(newx,48)]\n",
    "for i, x in enumerate(newx): \n",
    "    if(i%12 == 0): \n",
    "        continue \n",
    "    x[(i%12)] = 1 \n",
    "newx = sc_x.fit_transform(newx)\n",
    "forecast_unem = model_unem.predict(newx)\n",
    "\n",
    "forecast_unem"
   ]
  },
  {
   "cell_type": "code",
   "execution_count": 255,
   "metadata": {},
   "outputs": [
    {
     "data": {
      "text/plain": [
       "[<matplotlib.lines.Line2D at 0x13b3685e0>]"
      ]
     },
     "execution_count": 255,
     "metadata": {},
     "output_type": "execute_result"
    },
    {
     "data": {
      "image/png": "[encoded data removed]",
      "text/plain": [
       "<Figure size 640x480 with 1 Axes>"
      ]
     },
     "metadata": {},
     "output_type": "display_data"
    }
   ],
   "source": [
    "plot = plt.figure()\n",
    "plt.subplot().plot(range(8), actual_Year5, 'y-')\n",
    "plt.subplot().plot(range(8), forecast_dm[:8], 'g--')\n",
    "plt.subplot().plot(range(8), forecast_mlr[:8], 'r--')\n",
    "plt.subplot().plot(range(8), forecast_unem[:8], 'b--')"
   ]
  },
  {
   "cell_type": "code",
   "execution_count": 256,
   "metadata": {},
   "outputs": [
    {
     "name": "stdout",
     "output_type": "stream",
     "text": [
      "MAD_DM: 423.66283651599764\n",
      "MAD_MLR: 397.2916666666672\n",
      "MAD_MLR with Unemployment: 313.8984964726543\n"
     ]
    }
   ],
   "source": [
    "deviation_mlr_unem = [f - actual_Year5[t] for t,f in enumerate(forecast_unem)]\n",
    "\n",
    "\n",
    "MAD_unem = pf.CalculateMeanAbsoluteDeviation(deviation_mlr_unem)\n",
    "print(\"MAD_DM:\",MAD_dm)\n",
    "print(\"MAD_MLR:\",MAD_mlr)\n",
    "print(\"MAD_MLR with Unemployment:\",MAD_unem)"
   ]
  }
 ],
 "metadata": {
  "kernelspec": {
   "display_name": "Python 3.9.6 64-bit",
   "language": "python",
   "name": "python3"
  },
  "language_info": {
   "codemirror_mode": {
    "name": "ipython",
    "version": 3
   },
   "file_extension": ".py",
   "mimetype": "text/x-python",
   "name": "python",
   "nbconvert_exporter": "python",
   "pygments_lexer": "ipython3",
   "version": "3.9.6"
  },
  "vscode": {
   "interpreter": {
    "hash": "31f2aee4e71d21fbe5cf8b01ff0e069b9275f58929596ceb00d14d90e3e16cd6"
   }
  }
 },
 "nbformat": 4,
 "nbformat_minor": 4
}
